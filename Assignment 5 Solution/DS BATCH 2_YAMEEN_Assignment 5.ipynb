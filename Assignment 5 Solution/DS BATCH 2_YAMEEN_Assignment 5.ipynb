{
 "cells": [
  {
   "cell_type": "markdown",
   "id": "e45471b4-5e51-467c-9937-115119d61f4a",
   "metadata": {},
   "source": [
    "# <center>Assignment 5 Solution </center>\n",
    "#### <center> Submitted by : Yameen Ali <br><br> [Go to Github repository](https://github.com/YameenAli/Data-Science-Assignments/tree/main/Assignment%205%20Solution) </center>\n",
    "---"
   ]
  },
  {
   "cell_type": "markdown",
   "id": "22672716-0bd8-4c72-bb49-84dbbbe646bb",
   "metadata": {},
   "source": [
    "## Question 1\n",
    "#### Display the given pattern by using python script?"
   ]
  },
  {
   "cell_type": "code",
   "execution_count": 38,
   "id": "406e8e24-9765-47af-bfb2-1fae741b058b",
   "metadata": {},
   "outputs": [
    {
     "name": "stdout",
     "output_type": "stream",
     "text": [
      "1234567\n",
      "123456\n",
      "12345\n",
      "1234\n",
      "123\n",
      "12\n",
      "1\n"
     ]
    }
   ],
   "source": [
    "for i in range (7,0,-1):\n",
    "    pattern = \"\"\n",
    "    for j in range (1,i+1):\n",
    "        pattern += str(j)\n",
    "    print(pattern)"
   ]
  },
  {
   "cell_type": "markdown",
   "id": "9a99259d-bc5b-434b-9e6d-9e0bb7138c4b",
   "metadata": {},
   "source": [
    "## Question 2\n",
    "#### Write python script to print the total number of same elements of two lists?"
   ]
  },
  {
   "cell_type": "code",
   "execution_count": 46,
   "id": "712325fb-62e4-43fa-83d5-d90de28a22d3",
   "metadata": {},
   "outputs": [
    {
     "name": "stdout",
     "output_type": "stream",
     "text": [
      "The total number of same elements are: 2 {3, 6}\n"
     ]
    }
   ],
   "source": [
    "# Define Two Lists\n",
    "list1 = [6,3,1,8,7]\n",
    "list2 = [2,5,6,0,3]\n",
    "\n",
    "#convert list into set\n",
    "set1 = set(list1)\n",
    "set2 = set(list2)\n",
    "\n",
    "#find the intersection of two sets\n",
    "same_elements = set1.intersection(set2)\n",
    "\n",
    "#print the Result\n",
    "print(f\"The total number of same elements are: {len(same_elements)} {same_elements}\")"
   ]
  },
  {
   "cell_type": "markdown",
   "id": "b9e5b796-7b20-4fa8-84e2-5bce0c16d2e9",
   "metadata": {},
   "source": [
    "## Question 3\n",
    "#### Implement a simple calculator program that performs arithmetic operations based on user input\n",
    "Note: If user input addition or + then it performs addition operation, same as it is for other operations"
   ]
  },
  {
   "cell_type": "code",
   "execution_count": 68,
   "id": "09302102-cf83-463e-ab2b-e34e2d90bdb5",
   "metadata": {},
   "outputs": [
    {
     "name": "stdout",
     "output_type": "stream",
     "text": [
      "simple calculator\n"
     ]
    },
    {
     "name": "stdin",
     "output_type": "stream",
     "text": [
      "Enter the Operation you want to perform *\n",
      "Enter the first num:  6\n",
      "Enter the second num:  6\n"
     ]
    },
    {
     "name": "stdout",
     "output_type": "stream",
     "text": [
      "Result:  36.0\n"
     ]
    }
   ],
   "source": [
    "print(\"simple calculator\")\n",
    "\n",
    "# get user input for operation choice\n",
    "choice = input(\"Enter the Operation you want to perform\")\n",
    "\n",
    "if choice in ['+','-','*','/','addition','subraction','multiplication','division']:\n",
    "    #get user input for operands\n",
    "    num1 = float(input(\"Enter the first num: \"))\n",
    "    num2 = float(input(\"Enter the second num: \"))\n",
    "\n",
    "    #perform selected operation and display result\n",
    "    if choice == '+' or choice == 'addition':\n",
    "        result = num1 + num2\n",
    "        print('Result: ', result)  \n",
    "        \n",
    "    elif choice == '-' or choice == 'subtraction': \n",
    "        result = num1 - num2\n",
    "        print(\"Result: \", result)\n",
    "        \n",
    "    elif choice == '*' or choice == 'multiplication':\n",
    "        result = num1 * num2\n",
    "        print(\"Result: \", result)\n",
    "        \n",
    "        \n",
    "    elif choice == '/' or choice == 'division':\n",
    "        if num2 == 0:\n",
    "            print(\"Error: Division by zero\")\n",
    "        else:\n",
    "            result = num1 / num2\n",
    "            print(\"Result \", result)    \n",
    "else:\n",
    "    print(\"please choose correct operation\")"
   ]
  },
  {
   "cell_type": "markdown",
   "id": "e55e4c32-1804-49d1-af81-381aa99ce40b",
   "metadata": {},
   "source": [
    "# Question 4\n",
    "#### Write a python script that input a text statement from the user and check how many times a particular character is repeated in the text?"
   ]
  },
  {
   "cell_type": "code",
   "execution_count": 100,
   "id": "e7ae69c4-73a0-452d-ac57-288dd3be5c15",
   "metadata": {},
   "outputs": [
    {
     "name": "stdin",
     "output_type": "stream",
     "text": [
      "Enter a text statement:  I love coding, eating and sleeping.\n",
      "Enter the character to count:  o\n"
     ]
    },
    {
     "name": "stdout",
     "output_type": "stream",
     "text": [
      "The Character o is repeated 2 times in the text statement\n"
     ]
    }
   ],
   "source": [
    "# Input a text statement from the user\n",
    "text = input(\"Enter a text statement: \")\n",
    "\n",
    "# input the characrter to count \n",
    "char_to_count = input(\"Enter the character to count: \")\n",
    "\n",
    "# count how many times particular character repeat\n",
    "count = text.count(char_to_count)\n",
    "\n",
    "#display the result\n",
    "print(f\"The Character {char_to_count} is repeated {count} times in the text statement\")\n"
   ]
  },
  {
   "cell_type": "markdown",
   "id": "429e9c8a-9df7-42df-b5d9-78a665c57668",
   "metadata": {},
   "source": [
    "# Question 5 \n",
    "#### Function (positional argument & keyword argument):\n",
    "a) Write a function that calculates the area of a rectangle given its length and width as\r\n",
    "positional arguments."
   ]
  },
  {
   "cell_type": "code",
   "execution_count": 93,
   "id": "56b58f2b-8f79-4963-b979-4b3042532151",
   "metadata": {},
   "outputs": [
    {
     "name": "stdout",
     "output_type": "stream",
     "text": [
      "Area of the Rectangle: 30\n"
     ]
    }
   ],
   "source": [
    "# This below func takes two positional arguments length and width\n",
    "def calculate_rectangle_area(length,width):\n",
    "    area = length * width\n",
    "    return area\n",
    "\n",
    "print(f\"Area of the Rectangle: {calculate_rectangle_area(6,5)}\")"
   ]
  },
  {
   "cell_type": "markdown",
   "id": "10f6f0cf-2290-4c2b-a040-4e53d16148ba",
   "metadata": {},
   "source": [
    "b) Create a function that prints a person's details (name, age, address) using keyword \n",
    "arguments."
   ]
  },
  {
   "cell_type": "code",
   "execution_count": 94,
   "id": "57840aeb-6e08-4ecb-a99d-7319b88dff2d",
   "metadata": {},
   "outputs": [
    {
     "name": "stdout",
     "output_type": "stream",
     "text": [
      "Name:  yameen\n",
      "Age:  23\n",
      "Address:  Multan, Pakistan\n"
     ]
    }
   ],
   "source": [
    "# this below func takes three keyword arguments: name, age, and address\n",
    "def print_person_details(name, age, address):\n",
    "    print(\"Name: \",name)\n",
    "    print(\"Age: \",age)\n",
    "    print(\"Address: \",address)\n",
    "\n",
    "print_person_details(name='yameen',age='23',address='Multan, Pakistan')"
   ]
  },
  {
   "cell_type": "markdown",
   "id": "4674be12-ec89-4b03-844b-cf22dee59507",
   "metadata": {},
   "source": [
    "# Question 6\n",
    "#### Lambda Function"
   ]
  },
  {
   "cell_type": "markdown",
   "id": "de3cefb5-2f00-40e6-be76-e3aabb92218f",
   "metadata": {},
   "source": [
    "a) Implement a program that uses a lambda function to find the square of a given \n",
    "number."
   ]
  },
  {
   "cell_type": "code",
   "execution_count": 99,
   "id": "ead94032-3f00-4f0b-9a3a-1b031d3ccf72",
   "metadata": {},
   "outputs": [
    {
     "name": "stdin",
     "output_type": "stream",
     "text": [
      "Enter a number:  5.5\n"
     ]
    },
    {
     "name": "stdout",
     "output_type": "stream",
     "text": [
      "The square of 5.5 is 30.25\n"
     ]
    }
   ],
   "source": [
    "# define a lambda function to find the square of the number\n",
    "square = lambda x: x**2\n",
    "\n",
    "# Input the number from the user\n",
    "number = float(input(\"Enter a number: \"))\n",
    "\n",
    "# calculate the square using the lambda function\n",
    "result = square(number)\n",
    "\n",
    "# display result\n",
    "print(f\"The square of {number} is {result}\")"
   ]
  },
  {
   "cell_type": "markdown",
   "id": "a984608f-c78d-44de-a79e-f10ca7c8508c",
   "metadata": {},
   "source": [
    "b) Write a program that sorts a list of strings based on the length of each string using\r\n",
    "a lambda function."
   ]
  },
  {
   "cell_type": "code",
   "execution_count": 10,
   "id": "f89c1172-9861-4891-92fa-308add256c51",
   "metadata": {},
   "outputs": [
    {
     "name": "stdout",
     "output_type": "stream",
     "text": [
      "['saad', 'rafay', 'yameen']\n"
     ]
    }
   ],
   "source": [
    "list_of_strings = ['yameen','rafay','saad']\n",
    "# use a lambda function as the key parameter\n",
    "sorted_list = sorted(list_of_strings, key = lambda x: len(x))\n",
    "print(sorted_list)"
   ]
  },
  {
   "cell_type": "markdown",
   "id": "c2a93f05-8d87-48bc-bb28-37c8796c249d",
   "metadata": {},
   "source": [
    "# Question 7\n",
    "#### Filter, Map, and Reduce"
   ]
  },
  {
   "cell_type": "markdown",
   "id": "d8f3859b-28ad-4565-bb70-8e45b1912985",
   "metadata": {},
   "source": [
    "a) Create a program that takes a list of strings as input and performs the following\r\n",
    "operations:"
   ]
  },
  {
   "cell_type": "code",
   "execution_count": 62,
   "id": "15e1c9b7-1263-4064-87a8-964aca8991a8",
   "metadata": {},
   "outputs": [],
   "source": [
    "input_strings = ['yameen','rafay','Shah','haseeb','ahmad','ali']"
   ]
  },
  {
   "cell_type": "markdown",
   "id": "afc7168c-8221-4517-bc59-09cdc5f06d2d",
   "metadata": {},
   "source": [
    "Use filter() and a lambda function to filter out strings with a length less than 5."
   ]
  },
  {
   "cell_type": "code",
   "execution_count": 63,
   "id": "3ed334bc-28d0-49ab-9cf2-9429821ba6fd",
   "metadata": {},
   "outputs": [
    {
     "name": "stdout",
     "output_type": "stream",
     "text": [
      "Strings with a length less than 5: \n",
      "Shah\n",
      "ali\n"
     ]
    }
   ],
   "source": [
    "filtered_strings = filter(lambda x: len(x) < 5,input_strings)\n",
    "print(\"Strings with a length less than 5: \")\n",
    "for string in filtered_strings:\n",
    "    print(string)"
   ]
  },
  {
   "cell_type": "markdown",
   "id": "e86d5b5e-b97f-41b1-9903-1e50590d71db",
   "metadata": {},
   "source": [
    "Use map() and a lambda function to convert the filtered strings to uppercase."
   ]
  },
  {
   "cell_type": "code",
   "execution_count": 64,
   "id": "c2ea1095-cf6f-459c-b4c0-a44b4763794c",
   "metadata": {},
   "outputs": [
    {
     "name": "stdout",
     "output_type": "stream",
     "text": [
      "Upper case Strings are:\n",
      "SHAH\n",
      "ALI\n"
     ]
    }
   ],
   "source": [
    "# Filter the strings first\n",
    "filtered_strings = filter(lambda x: len(x) < 5, input_strings)\n",
    "\n",
    "# Use map() and a lambda function to convert the filtered strings to uppercase\n",
    "upper_case = map(lambda x: x.upper(), filtered_strings)\n",
    "\n",
    "# Convert the map object to a list\n",
    "upper_case = list(upper_case)\n",
    "\n",
    "# Print the uppercase strings\n",
    "print(\"Upper case Strings are:\")\n",
    "for string in upper_case:\n",
    "    print(string)\n"
   ]
  },
  {
   "cell_type": "markdown",
   "id": "7c15c6b5-0a5a-4c40-a8ba-9b88afe2b2f3",
   "metadata": {},
   "source": [
    "Use reduce() to concatenate the uppercase strings into a single string"
   ]
  },
  {
   "cell_type": "code",
   "execution_count": 65,
   "id": "08faf9a9-8707-4989-b8f9-fd6e43230914",
   "metadata": {},
   "outputs": [
    {
     "name": "stdout",
     "output_type": "stream",
     "text": [
      "SHAHALI\n"
     ]
    }
   ],
   "source": [
    "from functools import reduce\n",
    "concatenated_list = reduce (lambda x,y: x+y,upper_case)\n",
    "print(concatenated_list)"
   ]
  },
  {
   "cell_type": "markdown",
   "id": "b71df895-4ae2-4c99-80d4-076a5a31a269",
   "metadata": {},
   "source": [
    "Write a program that reads a list of floating-point numbers from the user and uses\r\n",
    "map() to round each number to two decimal places. Then, use reduce() to find the\r\n",
    "sum of the rounded numbers"
   ]
  },
  {
   "cell_type": "code",
   "execution_count": 71,
   "id": "2b7d629c-2981-4d99-8a0f-0a24fc27cf32",
   "metadata": {},
   "outputs": [
    {
     "name": "stdin",
     "output_type": "stream",
     "text": [
      "Enter a list of floating-point numbers separated by spaces:  2.234 2.342\n"
     ]
    },
    {
     "name": "stdout",
     "output_type": "stream",
     "text": [
      "['2.234', '2.342']\n",
      "[2.23, 2.34]\n",
      "Sum of the rounded numbers: 4.57\n"
     ]
    }
   ],
   "source": [
    "from functools import reduce\n",
    "\n",
    "# Function to round floating-point numbers to two decimal places\n",
    "def round_number(number):\n",
    "    return round(number, 2)\n",
    "\n",
    "# Function to find the sum of numbers\n",
    "def sum_numbers(x, y):\n",
    "    return x + y\n",
    "\n",
    "# Read a list of floating-point numbers from the user\n",
    "numbers = input(\"Enter a list of floating-point numbers separated by spaces: \").split()\n",
    "print(numbers)\n",
    "\n",
    "# Convert input strings to floating-point numbers\n",
    "numbers = list(map(float, numbers))\n",
    "\n",
    "# Use map() to round each number to two decimal places\n",
    "rounded_numbers = list(map(round_number, numbers))\n",
    "print(rounded_numbers)\n",
    "\n",
    "# Use reduce() to find the sum of the rounded numbers\n",
    "sum_of_rounded_numbers = reduce(sum_numbers, rounded_numbers)\n",
    "\n",
    "# Print the sum of the rounded numbers\n",
    "print(\"Sum of the rounded numbers:\", sum_of_rounded_numbers)\n"
   ]
  },
  {
   "cell_type": "markdown",
   "id": "1b107dc6-3770-4728-ad10-9bb0069a0ed5",
   "metadata": {},
   "source": [
    "list of words, use filter() and map() to create a new list that contains the lengths of\r\n",
    "words that have more than three characters."
   ]
  },
  {
   "cell_type": "code",
   "execution_count": 82,
   "id": "342d4221-5f0c-423e-8ced-32d723657a89",
   "metadata": {},
   "outputs": [
    {
     "name": "stdout",
     "output_type": "stream",
     "text": [
      "['apple', 'kiwi', 'orange', 'banana', 'mango']\n"
     ]
    }
   ],
   "source": [
    "fruit_list = ['apple','cd','kiwi','orange','banana','mango','ap']\n",
    "filtered_words = list(filter(lambda x: len(x)>3 , fruit_list))\n",
    "print(filtered_words)"
   ]
  },
  {
   "cell_type": "markdown",
   "id": "f05452bb-f9ad-47e5-b310-73998e2dd691",
   "metadata": {},
   "source": [
    "# Question 8\n",
    "### Cofee Machine"
   ]
  },
  {
   "cell_type": "code",
   "execution_count": 37,
   "id": "469fadcc-229a-4b8e-8a13-845f7e8836f8",
   "metadata": {},
   "outputs": [
    {
     "name": "stdout",
     "output_type": "stream",
     "text": [
      "COFEE MACHINE\n"
     ]
    },
    {
     "name": "stdin",
     "output_type": "stream",
     "text": [
      "What would you like? (espresso/latte/cappuccino):  report\n"
     ]
    },
    {
     "name": "stdout",
     "output_type": "stream",
     "text": [
      "Water: 300 ml\n",
      "Milk: 200 ml\n",
      "Coffee: 100 g\n",
      "Money: 0 $\n",
      "COFEE MACHINE\n"
     ]
    },
    {
     "name": "stdin",
     "output_type": "stream",
     "text": [
      "What would you like? (espresso/latte/cappuccino):  latte\n"
     ]
    },
    {
     "name": "stdout",
     "output_type": "stream",
     "text": [
      "Please insert coins. (quarters = $0.25, dimes = $0.10, nickels = $0.05, pennies = $0.01)\n"
     ]
    },
    {
     "name": "stdin",
     "output_type": "stream",
     "text": [
      "How many quarters?:  300\n",
      "How many dimes?:  300\n",
      "How many nickels?:  300\n",
      "How many pennies?:  300\n"
     ]
    },
    {
     "name": "stdout",
     "output_type": "stream",
     "text": [
      "Here is $120.50 in change.\n",
      "Here is your latte. Enjoy!\n",
      "COFEE MACHINE\n"
     ]
    },
    {
     "name": "stdin",
     "output_type": "stream",
     "text": [
      "What would you like? (espresso/latte/cappuccino):  report\n"
     ]
    },
    {
     "name": "stdout",
     "output_type": "stream",
     "text": [
      "Water: 100 ml\n",
      "Milk: 50 ml\n",
      "Coffee: 76 g\n",
      "Money: 2.5 $\n",
      "COFEE MACHINE\n"
     ]
    },
    {
     "name": "stdin",
     "output_type": "stream",
     "text": [
      "What would you like? (espresso/latte/cappuccino):  off\n"
     ]
    },
    {
     "name": "stdout",
     "output_type": "stream",
     "text": [
      "Turning off...\n"
     ]
    }
   ],
   "source": [
    "def get_user_input():\n",
    "    \"\"\"Prompts the user for their coffee choice and returns the choice in lowercase.\"\"\"\n",
    "    while True:\n",
    "        print(\"COFEE MACHINE\")\n",
    "        choice = input(\"What would you like? (espresso/latte/cappuccino): \").lower()\n",
    "        if choice in (\"espresso\", \"latte\", \"cappuccino\", \"off\", \"report\"):\n",
    "            return choice\n",
    "        else:\n",
    "            print(\"Invalid choice. Please try again.\")\n",
    "\n",
    "def turn_off():\n",
    "    \"\"\"Turns off the machine by setting machine_on to False.\"\"\"\n",
    "    return False\n",
    "\n",
    "def print_report(resources):\n",
    "    \"\"\"Prints a report on the current resource levels.\"\"\"\n",
    "    print(\"Water:\", resources[\"water\"], \"ml\")\n",
    "    print(\"Milk:\", resources[\"milk\"], \"ml\")\n",
    "    print(\"Coffee:\", resources[\"coffee\"], \"g\")\n",
    "    print(\"Money:\", resources[\"money\"], \"$\")\n",
    "\n",
    "def check_resources(resources, drink):\n",
    "    \"\"\"Checks if there are enough resources to make a drink.\"\"\"\n",
    "    MENU = {\n",
    "        \"espresso\": {\"water\": 50, \"milk\": 0, \"coffee\": 18, \"cost\": 1.50},\n",
    "        \"latte\": {\"water\": 200, \"milk\": 150, \"coffee\": 24, \"cost\": 2.50},\n",
    "        \"cappuccino\": {\"water\": 250, \"milk\": 100, \"coffee\": 24, \"cost\": 3.00}\n",
    "    }\n",
    "    water_needed = MENU[drink][\"water\"]\n",
    "    milk_needed = MENU[drink][\"milk\"] if drink != \"espresso\" else 0\n",
    "    coffee_needed = MENU[drink][\"coffee\"]\n",
    "    if resources[\"water\"] < water_needed:\n",
    "        print(f\"Sorry, there is not enough water. ({resources['water']}ml available)\")\n",
    "        return False\n",
    "    elif resources[\"milk\"] < milk_needed:\n",
    "        print(f\"Sorry, there is not enough milk. ({resources['milk']}ml available)\")\n",
    "        return False\n",
    "    elif resources[\"coffee\"] < coffee_needed:\n",
    "        print(f\"Sorry, there is not enough coffee. ({resources['coffee']}g available)\")\n",
    "        return False\n",
    "    return True\n",
    "\n",
    "def process_coins():\n",
    "    \"\"\"Prompts the user for coins and calculates the total amount.\"\"\"\n",
    "    print(\"Please insert coins. (quarters = $0.25, dimes = $0.10, nickels = $0.05, pennies = $0.01)\")\n",
    "    quarters = int(input(\"How many quarters?: \"))\n",
    "    dimes = int(input(\"How many dimes?: \"))\n",
    "    nickels = int(input(\"How many nickels?: \"))\n",
    "    pennies = int(input(\"How many pennies?: \"))\n",
    "    total = 0.25 * quarters + 0.10 * dimes + 0.05 * nickels + 0.01 * pennies\n",
    "    return total\n",
    "\n",
    "def check_transaction(resources, drink, money_inserted):\n",
    "    \"\"\"Checks if the user has inserted enough money for the drink.\"\"\"\n",
    "    MENU = {\n",
    "        \"espresso\": {\"water\": 50, \"milk\": 0, \"coffee\": 18, \"cost\": 1.50},\n",
    "        \"latte\": {\"water\": 200, \"milk\": 150, \"coffee\": 24, \"cost\": 2.50},\n",
    "        \"cappuccino\": {\"water\": 250, \"milk\": 100, \"coffee\": 24, \"cost\": 3.00}\n",
    "    }\n",
    "    drink_cost = MENU[drink][\"cost\"]\n",
    "    if money_inserted < drink_cost:\n",
    "        print(f\"Sorry, that's not enough money. Money refunded: ${money_inserted:.2f}\")\n",
    "        return False, 0  # Return False to indicate insufficient money and 0 change\n",
    "    else:\n",
    "        change = money_inserted - drink_cost\n",
    "        resources[\"money\"] += drink_cost  # Update machine's money with the drink's cost\n",
    "        return True, change\n",
    "\n",
    "def make_coffee(resources, drink):\n",
    "    \"\"\"Deducts resources from the machine after a successful transaction.\"\"\"\n",
    "    MENU = {\n",
    "        \"espresso\": {\"water\": 50, \"milk\": 0, \"coffee\": 18, \"cost\": 1.50},\n",
    "        \"latte\": {\"water\": 200, \"milk\": 150, \"coffee\": 24, \"cost\": 2.50},\n",
    "        \"cappuccino\": {\"water\": 250, \"milk\": 100, \"coffee\": 24, \"cost\": 3.00}\n",
    "    }\n",
    "    water_needed = MENU[drink][\"water\"]\n",
    "    milk_needed = MENU[drink][\"milk\"] if drink != \"espresso\" else 0\n",
    "    coffee_needed = MENU[drink][\"coffee\"]\n",
    "    resources[\"water\"] -= water_needed\n",
    "    resources[\"milk\"] -= milk_needed\n",
    "    resources[\"coffee\"] -= coffee_needed\n",
    "    print(f\"Here is your {drink}. Enjoy!\")\n",
    "\n",
    "def give_change(change):\n",
    "    \"\"\"Offers change to the user.\"\"\"\n",
    "    print(f\"Here is ${change:.2f} in change.\")\n",
    "\n",
    "def main():\n",
    "    \"\"\"The main function of the program.\"\"\"\n",
    "    resources = {\n",
    "        \"water\": 300,\n",
    "        \"milk\": 200,\n",
    "        \"coffee\": 100,\n",
    "        \"money\": 0\n",
    "    }\n",
    "    machine_on = True\n",
    "\n",
    "    while machine_on:\n",
    "        # Get user's choice\n",
    "        choice = get_user_input()\n",
    "\n",
    "        # Turn off the machine if the user chooses \"off\"\n",
    "        if choice == \"off\":\n",
    "            machine_on = turn_off()\n",
    "            print(\"Turning off...\")\n",
    "            continue\n",
    "\n",
    "        # Print report if the user chooses \"report\"\n",
    "        elif choice == \"report\":\n",
    "            print_report(resources)\n",
    "            continue\n",
    "\n",
    "        # Check if the machine has enough resources for the chosen drink\n",
    "        if not check_resources(resources, choice):\n",
    "            continue\n",
    "\n",
    "        # Process coins and check transaction\n",
    "        money_inserted = process_coins()\n",
    "        success, change = check_transaction(resources, choice, money_inserted)\n",
    "        if not success:\n",
    "            continue  # Continue to the next iteration of the loop if transaction failed\n",
    "        \n",
    "        if change > 0:\n",
    "            give_change(change)  # Offer change to the user if there's any\n",
    "\n",
    "        # Make coffee\n",
    "        make_coffee(resources, choice)\n",
    "\n",
    "if __name__ == \"__main__\":\n",
    "    main()\n"
   ]
  }
 ],
 "metadata": {
  "kernelspec": {
   "display_name": "Python 3 (ipykernel)",
   "language": "python",
   "name": "python3"
  },
  "language_info": {
   "codemirror_mode": {
    "name": "ipython",
    "version": 3
   },
   "file_extension": ".py",
   "mimetype": "text/x-python",
   "name": "python",
   "nbconvert_exporter": "python",
   "pygments_lexer": "ipython3",
   "version": "3.12.2"
  }
 },
 "nbformat": 4,
 "nbformat_minor": 5
}
