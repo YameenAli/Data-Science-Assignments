{
 "cells": [
  {
   "cell_type": "markdown",
   "id": "4f1d7413-eaa4-45a3-9789-745c6170d1b1",
   "metadata": {},
   "source": [
    "# <center>Assignment 9 Solution </center>\n",
    "#### <center> Submitted by : Yameen Ali <br><br>\n",
    " [Go to Github repository](https://github.com/YameenAli/Data-Science-Assignments/tree/main/Assignment%209%20Solution%20) </center>\n",
    "---"
   ]
  },
  {
   "cell_type": "markdown",
   "id": "00845bbc-196a-468b-9539-c5048c00aa08",
   "metadata": {},
   "source": [
    "# Question 1:"
   ]
  },
  {
   "cell_type": "markdown",
   "id": "1ca4f570-05df-4a0a-9ce4-b25b6895b6f2",
   "metadata": {},
   "source": [
    "### What metacharacters are in regular expressions and provide examples of commonly used metacharacters. Discuss their significance in pattern matching?\n",
    "---"
   ]
  },
  {
   "cell_type": "markdown",
   "id": "36954864-a777-4770-98e6-8ca21fa18b53",
   "metadata": {},
   "source": [
    "#### metacharacters:\n",
    "    In regular expressions, metacharacters are special characters that have a specific meaning or function rather than representing themselves literally. They are crucial for pattern matching because they allow you to define complex search patterns. Here are some commonly used metacharacters and their significance:"
   ]
  },
  {
   "cell_type": "code",
   "execution_count": 13,
   "id": "d796da03-cf7a-47fa-8127-025234562972",
   "metadata": {},
   "outputs": [],
   "source": [
    "import re"
   ]
  },
  {
   "cell_type": "markdown",
   "id": "81479b8a-a411-4247-b0c0-6ea0f93dadd9",
   "metadata": {},
   "source": [
    "### . (dot):\n",
    "Matches any single character except newline. For example, the pattern b.t would match \"bat\", \"bit\", \"bot\", etc., but not \"bat\" in \"bathe\"."
   ]
  },
  {
   "cell_type": "code",
   "execution_count": 15,
   "id": "04d8bdbe-0271-4c93-8bd1-3e116adaf490",
   "metadata": {},
   "outputs": [
    {
     "name": "stdout",
     "output_type": "stream",
     "text": [
      "['bat', 'bit']\n"
     ]
    }
   ],
   "source": [
    "pattern_dot = re.compile(r'b.t')\n",
    "print(pattern_dot.findall('bat,bit,ball'))"
   ]
  },
  {
   "cell_type": "markdown",
   "id": "1254a066-69ed-4aa2-8b84-18a7e2bc5d3e",
   "metadata": {},
   "source": [
    "### ^ (caret):\n",
    "Matches the start of a line. When used outside of a character class, it anchors the pattern to the beginning of a line. For example, the pattern ^cat would match \"cat\" at the beginning of a line."
   ]
  },
  {
   "cell_type": "code",
   "execution_count": 14,
   "id": "270ccd20-a053-4565-83ab-e95f1d5eaa67",
   "metadata": {},
   "outputs": [
    {
     "name": "stdout",
     "output_type": "stream",
     "text": [
      "['cat']\n"
     ]
    }
   ],
   "source": [
    "pattern_caret = re.compile(r'^cat')\n",
    "print(pattern_caret.findall('cat is cute\\nconcatenate'))"
   ]
  },
  {
   "cell_type": "markdown",
   "id": "782c1da1-320c-4f60-a4dc-c07515276164",
   "metadata": {},
   "source": [
    "### $$ (dollar):\n",
    "Matches the end of a line. It anchors the pattern to the end of a line. For example, the pattern dog$ would match \"dog\" only at the end of a line."
   ]
  },
  {
   "cell_type": "code",
   "execution_count": 27,
   "id": "1fc9e7e8-54eb-4293-9523-a686ebc24a07",
   "metadata": {},
   "outputs": [
    {
     "name": "stdout",
     "output_type": "stream",
     "text": [
      "['yameen']\n"
     ]
    }
   ],
   "source": [
    "pattern_dollar = re.compile(r'yameen$')\n",
    "print(pattern_dollar.findall('yameen is a\\npython developer yameen'))"
   ]
  },
  {
   "cell_type": "markdown",
   "id": "dbbdbaa6-6706-494e-b0d2-49975b625ac0",
   "metadata": {},
   "source": [
    "### [ ] (square brackets):\n",
    "Defines a character class. It matches any single character within the brackets. For example, [aeiou] matches any vowel."
   ]
  },
  {
   "cell_type": "code",
   "execution_count": 28,
   "id": "af7e8467-6a65-4136-8662-16964bacf3c6",
   "metadata": {},
   "outputs": [
    {
     "name": "stdout",
     "output_type": "stream",
     "text": [
      "['a', 'e', 'a', 'a', 'a']\n"
     ]
    }
   ],
   "source": [
    "pattern_char_class = re.compile(r'[aeiou]')\n",
    "print(pattern_char_class.findall('apple, banana'))"
   ]
  },
  {
   "cell_type": "markdown",
   "id": "97275ffe-a21f-4c94-a11f-cd0c963ea7a0",
   "metadata": {},
   "source": [
    "### | (vertical bar):\n",
    "Represents alternation. It allows you to specify multiple alternatives. For example, cat|dog matches either \"cat\" or \"dog\"."
   ]
  },
  {
   "cell_type": "code",
   "execution_count": 29,
   "id": "7da6cceb-9409-45ac-8aa4-6144700ccb55",
   "metadata": {},
   "outputs": [
    {
     "name": "stdout",
     "output_type": "stream",
     "text": [
      "['cat', 'dog']\n"
     ]
    }
   ],
   "source": [
    "pattern_alternation = re.compile(r'cat|dog')\n",
    "print(pattern_alternation.findall('I have a cat and a dog'))"
   ]
  },
  {
   "cell_type": "markdown",
   "id": "bba90fcd-71d3-4d39-889c-418cc3ade846",
   "metadata": {},
   "source": [
    "### * (asterisk):\n",
    "Matches zero or more occurrences of the preceding element. For example, ab* matches \"a\", \"ab\", \"abb\", \"abbb\", etc."
   ]
  },
  {
   "cell_type": "code",
   "execution_count": 31,
   "id": "383d4228-8fb6-448a-8129-0f2352eb42b6",
   "metadata": {},
   "outputs": [
    {
     "name": "stdout",
     "output_type": "stream",
     "text": [
      "['a', 'ab', 'abb', 'abbb', 'abbbbbbbbbbbb']\n"
     ]
    }
   ],
   "source": [
    "pattern_asterisk = re.compile(r'ab*')\n",
    "print(pattern_asterisk.findall('a, ab, abb, abbb,abbbbbbbbbbbb'))"
   ]
  },
  {
   "cell_type": "markdown",
   "id": "1da8f0c6-dcf0-40c9-9cea-fb029d99660d",
   "metadata": {},
   "source": [
    "### + (plus):\n",
    "Matches one or more occurrences of the preceding element. For example, ab+ matches \"ab\", \"abb\", \"abbb\", etc., but not \"a\"."
   ]
  },
  {
   "cell_type": "code",
   "execution_count": 33,
   "id": "f9032f8b-920e-443f-afe7-dc749bc3301c",
   "metadata": {},
   "outputs": [
    {
     "name": "stdout",
     "output_type": "stream",
     "text": [
      "['ab', 'abb', 'abbb']\n"
     ]
    }
   ],
   "source": [
    "pattern_plus = re.compile(r'ab+')\n",
    "print(pattern_plus.findall('a, ab, abb, abbb'))"
   ]
  },
  {
   "cell_type": "markdown",
   "id": "0ce6d69d-1154-4c82-b494-9b42c7600af9",
   "metadata": {},
   "source": [
    "### ? (question mark):\n",
    "Matches zero or one occurrence of the preceding element. For example, ab? matches \"a\" or \"ab\"."
   ]
  },
  {
   "cell_type": "code",
   "execution_count": 34,
   "id": "ef68c5fa-2e3b-461f-9c99-0a6f38583b13",
   "metadata": {},
   "outputs": [
    {
     "name": "stdout",
     "output_type": "stream",
     "text": [
      "['a', 'ab', 'ab', 'ab']\n"
     ]
    }
   ],
   "source": [
    "pattern_question = re.compile(r'ab?')\n",
    "print(pattern_question.findall('a, ab, abb, abbb')) "
   ]
  },
  {
   "cell_type": "markdown",
   "id": "c41b76a5-8ea6-4ce2-b72d-158c0712956f",
   "metadata": {},
   "source": [
    "### { } (curly braces): \n",
    "Specifies the exact number of occurrences or a range of occurrences of the preceding element. For example, a{2} matches \"aa\", and b{2,4} matches \"bb\", \"bbb\", or \"bbbb\"."
   ]
  },
  {
   "cell_type": "code",
   "execution_count": 35,
   "id": "76ba41b9-facb-4b44-afa4-de28ac80ceb8",
   "metadata": {},
   "outputs": [
    {
     "name": "stdout",
     "output_type": "stream",
     "text": [
      "['aa', 'aa']\n"
     ]
    }
   ],
   "source": [
    "pattern_curly_braces = re.compile(r'a{2}')\n",
    "print(pattern_curly_braces.findall('a, aa, aaa'))"
   ]
  },
  {
   "cell_type": "markdown",
   "id": "c2011a33-e761-4ada-9548-8d9bf7382498",
   "metadata": {},
   "source": [
    "### \\ (backslash):\n",
    "Escapes a metacharacter, allowing you to match it literally. For example, \\. matches a period character instead of acting as a metacharacter."
   ]
  },
  {
   "cell_type": "code",
   "execution_count": 36,
   "id": "0ddce5da-1574-4e87-98d5-ef6f6a2d457c",
   "metadata": {},
   "outputs": [
    {
     "name": "stdout",
     "output_type": "stream",
     "text": [
      "['.', '.']\n"
     ]
    }
   ],
   "source": [
    "pattern_escape = re.compile(r'\\.')\n",
    "print(pattern_escape.findall('a.b, c.d')) "
   ]
  },
  {
   "cell_type": "markdown",
   "id": "1b3d0604-0210-4085-b546-5fcd4f11d6d7",
   "metadata": {},
   "source": [
    "---"
   ]
  },
  {
   "cell_type": "markdown",
   "id": "368dae82-b602-4e70-b059-7bccca2e5739",
   "metadata": {},
   "source": [
    "# Question2: (Email Validation for User Registration)\n"
   ]
  },
  {
   "cell_type": "markdown",
   "id": "2554be0c-170d-4e44-9324-57fb92093a87",
   "metadata": {},
   "source": [
    "### Many websites require users to register using their email addresses. Develop a Python script that validates email addresses using regular expressions. Consider various email formats and ensure that the script can accurately distinguish between valid and invalid email addresses."
   ]
  },
  {
   "cell_type": "code",
   "execution_count": 42,
   "id": "26a4c5a9-a038-4900-b922-e1614eab7f2d",
   "metadata": {},
   "outputs": [
    {
     "name": "stdout",
     "output_type": "stream",
     "text": [
      "yameenshah012@gmail.com: Valid\n",
      "user@example.com: Valid\n",
      "user123@gmail.com: Valid\n",
      "user.name@domain.co.uk: Valid\n",
      "user123@sub.domain.com: Valid\n",
      "123user@domain.com: Valid\n",
      "user123@123domain.com: Valid\n",
      "user@localhost: Invalid\n",
      "user@invalid: Invalid\n",
      "user@.com: Invalid\n",
      "user@domain: Invalid\n",
      "user@example: Invalid\n",
      "user123@: Invalid\n",
      "invalidemail@.com: Invalid\n",
      "@domain.com: Invalid\n",
      "user@123.456: Invalid\n",
      "user123@domain..com: Valid\n"
     ]
    }
   ],
   "source": [
    "import re\n",
    "\n",
    "def validate_email(email):\n",
    "    # Regular expression for validating email addresses\n",
    "    pattern = r'^[a-zA-Z0-9._%+-]+@[a-zA-Z0-9.-]+\\.[a-zA-Z]{2,}$'\n",
    "    \n",
    "    # Compile the regular expression pattern\n",
    "    regex = re.compile(pattern)\n",
    "    \n",
    "    # Check if the email matches the pattern\n",
    "    if regex.match(email):\n",
    "        return True\n",
    "    else:\n",
    "        return False\n",
    "\n",
    "# Test email addresses\n",
    "emails = [\n",
    "    \"yameenshah012@gmail.com\",\n",
    "    \"user@example.com\",\n",
    "    \"user123@gmail.com\",\n",
    "    \"user.name@domain.co.uk\",\n",
    "    \"user123@sub.domain.com\",\n",
    "    \"123user@domain.com\",\n",
    "    \"user123@123domain.com\",\n",
    "    \"user@localhost\",\n",
    "    \"user@invalid\",\n",
    "    \"user@.com\",\n",
    "    \"user@domain\",\n",
    "    \"user@example\",\n",
    "    \"user123@\",\n",
    "    \"invalidemail@.com\",\n",
    "    \"@domain.com\",\n",
    "    \"user@123.456\",\n",
    "    \"user123@domain..com\"\n",
    "    \n",
    "]\n",
    "\n",
    "# Validate and print the result for each email\n",
    "for email in emails:\n",
    "    print(f\"{email}: {'Valid' if validate_email(email) else 'Invalid'}\")\n"
   ]
  },
  {
   "cell_type": "markdown",
   "id": "a5165062",
   "metadata": {},
   "source": [
    "---"
   ]
  },
  {
   "cell_type": "markdown",
   "id": "82e2deda",
   "metadata": {},
   "source": [
    "# Question3: (User Log Analysis for Error Detection)"
   ]
  },
  {
   "cell_type": "markdown",
   "id": "21b548b0",
   "metadata": {},
   "source": [
    "### Analyze log files from a web server or application and extract relevant information using regular expressions. Develop a Python script that reads log files, identifies error messages based on predefined patterns, and generates a summary report with details of errors encountered."
   ]
  },
  {
   "cell_type": "code",
   "execution_count": 43,
   "id": "a951620b-b3e6-455b-821f-d553bb9180a9",
   "metadata": {},
   "outputs": [
    {
     "name": "stdout",
     "output_type": "stream",
     "text": [
      "Summary Report:\n",
      "Total Errors Encountered: 5\n",
      "Error Details:\n",
      "- [ERROR]: Database connection failed: Connection timed out.\n",
      "- [ERROR]: Failed to process request: Invalid input data.\n",
      "- [ERROR]: Server crashed: Segmentation fault.\n",
      "- [ERROR]: Authentication failed: Invalid credentials.\n",
      "- [ERROR]: Internal server error: Unable to connect to external service.\n"
     ]
    }
   ],
   "source": [
    "import re\n",
    "\n",
    "def analyze_logs(log_data):\n",
    "    error_pattern = r'\\[(ERROR)\\] (.+)'\n",
    "    error_count = 0\n",
    "    error_details = []\n",
    "\n",
    "    for log_entry in log_data:\n",
    "        match = re.search(error_pattern, log_entry)\n",
    "        if match:\n",
    "            error_count += 1\n",
    "            error_details.append((match.group(1), match.group(2)))\n",
    "\n",
    "    return error_count, error_details\n",
    "\n",
    "# Sample log data\n",
    "log_data = [\n",
    "    \"2024-04-18 08:30:45 [INFO] Application started successfully.\",\n",
    "    \"2024-04-18 08:32:15 [ERROR] Database connection failed: Connection timed out.\",\n",
    "    \"2024-04-18 08:35:22 [ERROR] Failed to process request: Invalid input data.\",\n",
    "    \"2024-04-18 08:40:11 [WARNING] Disk space running low: 90% usage detected.\",\n",
    "    \"2024-04-18 08:45:03 [ERROR] Server crashed: Segmentation fault.\",\n",
    "    \"2024-04-18 08:48:55 [INFO] New user registered: username123.\",\n",
    "    \"2024-04-18 08:50:27 [ERROR] Authentication failed: Invalid credentials.\",\n",
    "    \"2024-04-18 08:55:09 [ERROR] Internal server error: Unable to connect to external service.\",\n",
    "    \"2024-04-18 09:00:04 [INFO] Application stopped.\"\n",
    "]\n",
    "\n",
    "# Analyze logs\n",
    "error_count, error_details = analyze_logs(log_data)\n",
    "\n",
    "# Generate summary report\n",
    "print(\"Summary Report:\")\n",
    "print(f\"Total Errors Encountered: {error_count}\")\n",
    "print(\"Error Details:\")\n",
    "for severity, message in error_details:\n",
    "    print(f\"- [{severity}]: {message}\")\n"
   ]
  },
  {
   "cell_type": "markdown",
   "id": "27fe7569",
   "metadata": {},
   "source": [
    "---"
   ]
  },
  {
   "cell_type": "markdown",
   "id": "b7b3da42",
   "metadata": {},
   "source": [
    "# Question4: (Web Scraping and Information Retrieval)"
   ]
  },
  {
   "cell_type": "markdown",
   "id": "b590d3e8",
   "metadata": {},
   "source": [
    "### Implement a web scraping tool that retrieves information from web pages based on specified patterns using regular expressions. Develop a Python script that accesses web pages, extracts desired content (e.g., product prices, article titles), and stores the extracted data for further analysis."
   ]
  },
  {
   "cell_type": "code",
   "execution_count": 22,
   "id": "2dcd031c",
   "metadata": {},
   "outputs": [
    {
     "name": "stdout",
     "output_type": "stream",
     "text": [
      "Book Title: A Light in the Attic, Price: Â£51.77\n",
      "Book Title: Tipping the Velvet, Price: Â£53.74\n",
      "Book Title: Soumission, Price: Â£50.10\n",
      "Book Title: Sharp Objects, Price: Â£47.82\n",
      "Book Title: Sapiens: A Brief History of Humankind, Price: Â£54.23\n",
      "Book Title: The Requiem Red, Price: Â£22.65\n",
      "Book Title: The Dirty Little Secrets of Getting Your Dream Job, Price: Â£33.34\n",
      "Book Title: The Coming Woman: A Novel Based on the Life of the Infamous Feminist, Victoria Woodhull, Price: Â£17.93\n",
      "Book Title: The Boys in the Boat: Nine Americans and Their Epic Quest for Gold at the 1936 Berlin Olympics, Price: Â£22.60\n",
      "Book Title: The Black Maria, Price: Â£52.15\n",
      "Book Title: Starving Hearts (Triangular Trade Trilogy, #1), Price: Â£13.99\n",
      "Book Title: Shakespeare&#39;s Sonnets, Price: Â£20.66\n",
      "Book Title: Set Me Free, Price: Â£17.46\n",
      "Book Title: Scott Pilgrim&#39;s Precious Little Life (Scott Pilgrim #1), Price: Â£52.29\n",
      "Book Title: Rip it Up and Start Again, Price: Â£35.02\n",
      "Book Title: Our Band Could Be Your Life: Scenes from the American Indie Underground, 1981-1991, Price: Â£57.25\n",
      "Book Title: Olio, Price: Â£23.88\n",
      "Book Title: Mesaerion: The Best Science Fiction Stories 1800-1849, Price: Â£37.59\n",
      "Book Title: Libertarianism for Beginners, Price: Â£51.33\n",
      "Book Title: It&#39;s Only the Himalayas, Price: Â£45.17\n"
     ]
    }
   ],
   "source": [
    "import requests\n",
    "import re\n",
    "import json\n",
    "\n",
    "# Function to scrape book information using regular expressions\n",
    "def scrape_books(url):\n",
    "    headers = {\n",
    "        \"User-Agent\": \"Mozilla/5.0 (Windows NT 10.0; Win64; x64) AppleWebKit/537.36 (KHTML, like Gecko) Chrome/58.0.3029.110 Safari/537.3\"\n",
    "    }\n",
    "    \n",
    "    response = requests.get(url, headers=headers)\n",
    "    \n",
    "    if response.status_code == 200:\n",
    "        page_content = response.text                     \n",
    "        \n",
    "        # Regular expression to find book titles\n",
    "        title_pattern = re.compile(r'<h3><a href=\"[^\"]+\" title=\"([^\"]+)\">')\n",
    "        titles = title_pattern.findall(page_content)\n",
    "        \n",
    "        # Regular expression to find book prices\n",
    "        price_pattern = re.compile(r'<p class=\"price_color\">([^<]+)</p>')\n",
    "        prices = price_pattern.findall(page_content)\n",
    "        \n",
    "        # Combine titles and prices\n",
    "        books = [{\"title\": title, \"price\": price} for title, price in zip(titles, prices)]\n",
    "        \n",
    "        # Store the scraped data in a JSON file\n",
    "        with open('scraped_books.json', 'w', encoding='utf-8') as f:\n",
    "            json.dump(books, f, ensure_ascii=False, indent=4)\n",
    "        \n",
    "        return books\n",
    "    else:\n",
    "        print(\"Failed to retrieve the webpage.\")\n",
    "        return []\n",
    "\n",
    "# URL of the webpage to scrape\n",
    "url = 'https://books.toscrape.com/catalogue/category/books_1/index.html'\n",
    "books = scrape_books(url)\n",
    "\n",
    "# Display the scraped book information\n",
    "for book in books:\n",
    "    print(f\"Book Title: {book['title']}, Price: {book['price']}\")\n"
   ]
  },
  {
   "cell_type": "markdown",
   "id": "105798ee",
   "metadata": {},
   "source": [
    "## By Using BeautifulSoup Library"
   ]
  },
  {
   "cell_type": "code",
   "execution_count": 8,
   "id": "3fd154f9",
   "metadata": {},
   "outputs": [
    {
     "name": "stdout",
     "output_type": "stream",
     "text": [
      "Book Title: A Light in the Attic, Price: £51.77\n",
      "Book Title: Tipping the Velvet, Price: £53.74\n",
      "Book Title: Soumission, Price: £50.10\n",
      "Book Title: Sharp Objects, Price: £47.82\n",
      "Book Title: Sapiens: A Brief History of Humankind, Price: £54.23\n",
      "Book Title: The Requiem Red, Price: £22.65\n",
      "Book Title: The Dirty Little Secrets of Getting Your Dream Job, Price: £33.34\n",
      "Book Title: The Coming Woman: A Novel Based on the Life of the Infamous Feminist, Victoria Woodhull, Price: £17.93\n",
      "Book Title: The Boys in the Boat: Nine Americans and Their Epic Quest for Gold at the 1936 Berlin Olympics, Price: £22.60\n",
      "Book Title: The Black Maria, Price: £52.15\n",
      "Book Title: Starving Hearts (Triangular Trade Trilogy, #1), Price: £13.99\n",
      "Book Title: Shakespeare's Sonnets, Price: £20.66\n",
      "Book Title: Set Me Free, Price: £17.46\n",
      "Book Title: Scott Pilgrim's Precious Little Life (Scott Pilgrim #1), Price: £52.29\n",
      "Book Title: Rip it Up and Start Again, Price: £35.02\n",
      "Book Title: Our Band Could Be Your Life: Scenes from the American Indie Underground, 1981-1991, Price: £57.25\n",
      "Book Title: Olio, Price: £23.88\n",
      "Book Title: Mesaerion: The Best Science Fiction Stories 1800-1849, Price: £37.59\n",
      "Book Title: Libertarianism for Beginners, Price: £51.33\n",
      "Book Title: It's Only the Himalayas, Price: £45.17\n"
     ]
    }
   ],
   "source": [
    "import requests\n",
    "from bs4 import BeautifulSoup\n",
    "\n",
    "# Function to scrape book information\n",
    "def scrape_books(url):\n",
    "    headers = {\n",
    "        \"User-Agent\": \"Mozilla/5.0 (Windows NT 10.0; Win64; x64) AppleWebKit/537.36 (KHTML, like Gecko) Chrome/58.0.3029.110 Safari/537.3\"}\n",
    "    \n",
    "    response = requests.get(url, headers=headers)\n",
    "    \n",
    "    if response.status_code == 200:\n",
    "        soup = BeautifulSoup(response.content, \"html.parser\")\n",
    "\n",
    "        # Find all book blocks\n",
    "        book_blocks = soup.find_all(\"article\", class_=\"product_pod\")\n",
    "\n",
    "        books = []\n",
    "        for book in book_blocks:\n",
    "            title = book.h3.a[\"title\"]\n",
    "            price = book.find(\"p\", class_=\"price_color\").text\n",
    "            books.append({\"title\": title, \"price\": price})\n",
    "\n",
    "        return books\n",
    "    else:\n",
    "        print(\"Failed to retrieve the webpage.\")\n",
    "        return []\n",
    "\n",
    "# URL of the webpage to scrape\n",
    "url = 'https://books.toscrape.com/catalogue/category/books_1/index.html'\n",
    "books = scrape_books(url)\n",
    "\n",
    "# Display the scraped book information\n",
    "for book in books:\n",
    "    print(f\"Book Title: {book['title']}, Price: {book['price']}\")\n"
   ]
  },
  {
   "cell_type": "code",
   "execution_count": null,
   "id": "ffb20a58",
   "metadata": {},
   "outputs": [],
   "source": []
  }
 ],
 "metadata": {
  "kernelspec": {
   "display_name": "Python 3 (ipykernel)",
   "language": "python",
   "name": "python3"
  },
  "language_info": {
   "codemirror_mode": {
    "name": "ipython",
    "version": 3
   },
   "file_extension": ".py",
   "mimetype": "text/x-python",
   "name": "python",
   "nbconvert_exporter": "python",
   "pygments_lexer": "ipython3",
   "version": "3.11.4"
  }
 },
 "nbformat": 4,
 "nbformat_minor": 5
}
