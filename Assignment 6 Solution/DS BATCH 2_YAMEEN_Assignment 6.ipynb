{
 "cells": [
  {
   "cell_type": "markdown",
   "id": "3a814e50-6f6b-4f15-9f0c-c6cd5875e338",
   "metadata": {},
   "source": [
    "# <center>Assignment 6 Solution </center>\n",
    "#### <center> Submitted by : Yameen Ali <br><br> [Go to Github repository](https://github.com/YameenAli/Data-Science-Assignments/tree/main/Assignment%206%20Solution) </center>\n",
    "---"
   ]
  },
  {
   "cell_type": "markdown",
   "id": "96952e68-16d2-44da-b0a7-2be0137f2585",
   "metadata": {},
   "source": [
    "# Student Management System Using OOP Concepts"
   ]
  },
  {
   "cell_type": "code",
   "execution_count": 65,
   "id": "6d1b278d-140a-4677-96f7-f507852492bc",
   "metadata": {},
   "outputs": [
    {
     "name": "stdout",
     "output_type": "stream",
     "text": [
      "\n",
      "Student Management System\n",
      "1. Add new Student\n",
      "2. Add marks\n",
      "3. Display Stduent Details\n",
      "4. Display Total Students\n",
      "5. Display Topper\n",
      "6. Exit\n"
     ]
    },
    {
     "name": "stdin",
     "output_type": "stream",
     "text": [
      "Enter your choice:  1\n",
      "Enter a name:  yameen\n",
      "Enter Roll number:  50\n",
      "Enter age:  22\n"
     ]
    },
    {
     "name": "stdout",
     "output_type": "stream",
     "text": [
      "Student added scuccesfully\n",
      "\n",
      "Student Management System\n",
      "1. Add new Student\n",
      "2. Add marks\n",
      "3. Display Stduent Details\n",
      "4. Display Total Students\n",
      "5. Display Topper\n",
      "6. Exit\n"
     ]
    },
    {
     "name": "stdin",
     "output_type": "stream",
     "text": [
      "Enter your choice:  1\n",
      "Enter a name:  Rafay\n",
      "Enter Roll number:  18\n",
      "Enter age:  22\n"
     ]
    },
    {
     "name": "stdout",
     "output_type": "stream",
     "text": [
      "Student added scuccesfully\n",
      "\n",
      "Student Management System\n",
      "1. Add new Student\n",
      "2. Add marks\n",
      "3. Display Stduent Details\n",
      "4. Display Total Students\n",
      "5. Display Topper\n",
      "6. Exit\n"
     ]
    },
    {
     "name": "stdin",
     "output_type": "stream",
     "text": [
      "Enter your choice:  2\n",
      "Enter roll number of the student 50\n",
      "Enter Subject name:  DSP\n",
      "Enter marks:  85\n"
     ]
    },
    {
     "name": "stdout",
     "output_type": "stream",
     "text": [
      "Marks added successfully\n",
      "\n",
      "Student Management System\n",
      "1. Add new Student\n",
      "2. Add marks\n",
      "3. Display Stduent Details\n",
      "4. Display Total Students\n",
      "5. Display Topper\n",
      "6. Exit\n"
     ]
    },
    {
     "name": "stdin",
     "output_type": "stream",
     "text": [
      "Enter your choice:  2\n",
      "Enter roll number of the student 18\n",
      "Enter Subject name:  DSP\n",
      "Enter marks:  84\n"
     ]
    },
    {
     "name": "stdout",
     "output_type": "stream",
     "text": [
      "Marks added successfully\n",
      "\n",
      "Student Management System\n",
      "1. Add new Student\n",
      "2. Add marks\n",
      "3. Display Stduent Details\n",
      "4. Display Total Students\n",
      "5. Display Topper\n",
      "6. Exit\n"
     ]
    },
    {
     "name": "stdin",
     "output_type": "stream",
     "text": [
      "Enter your choice:  3\n",
      "Enter roll number of the student:  50\n"
     ]
    },
    {
     "name": "stdout",
     "output_type": "stream",
     "text": [
      "Name: yameen\n",
      "Roll Number: 50\n",
      "Age: 22\n",
      "Marks:\n",
      "DSP: 85\n",
      "Total Marks: 85\n",
      "Percentage: 85%\n",
      "\n",
      "Student Management System\n",
      "1. Add new Student\n",
      "2. Add marks\n",
      "3. Display Stduent Details\n",
      "4. Display Total Students\n",
      "5. Display Topper\n",
      "6. Exit\n"
     ]
    },
    {
     "name": "stdin",
     "output_type": "stream",
     "text": [
      "Enter your choice:  3\n",
      "Enter roll number of the student:  18\n"
     ]
    },
    {
     "name": "stdout",
     "output_type": "stream",
     "text": [
      "Name: Rafay\n",
      "Roll Number: 18\n",
      "Age: 22\n",
      "Marks:\n",
      "DSP: 84\n",
      "Total Marks: 84\n",
      "Percentage: 84%\n",
      "\n",
      "Student Management System\n",
      "1. Add new Student\n",
      "2. Add marks\n",
      "3. Display Stduent Details\n",
      "4. Display Total Students\n",
      "5. Display Topper\n",
      "6. Exit\n"
     ]
    },
    {
     "name": "stdin",
     "output_type": "stream",
     "text": [
      "Enter your choice:  4\n"
     ]
    },
    {
     "name": "stdout",
     "output_type": "stream",
     "text": [
      "Total Studetns: 2\n",
      "\n",
      "Student Management System\n",
      "1. Add new Student\n",
      "2. Add marks\n",
      "3. Display Stduent Details\n",
      "4. Display Total Students\n",
      "5. Display Topper\n",
      "6. Exit\n"
     ]
    },
    {
     "name": "stdin",
     "output_type": "stream",
     "text": [
      "Enter your choice:  5\n"
     ]
    },
    {
     "name": "stdout",
     "output_type": "stream",
     "text": [
      "\n",
      "Topper Details:\n",
      "Name: yameen\n",
      "Roll Number: 50\n",
      "Age: 22\n",
      "Marks:\n",
      "DSP: 85\n",
      "Total Marks: 85\n",
      "Percentage: 85.0%\n",
      "\n",
      "Student Management System\n",
      "1. Add new Student\n",
      "2. Add marks\n",
      "3. Display Stduent Details\n",
      "4. Display Total Students\n",
      "5. Display Topper\n",
      "6. Exit\n"
     ]
    },
    {
     "name": "stdin",
     "output_type": "stream",
     "text": [
      "Enter your choice:  6\n"
     ]
    },
    {
     "name": "stdout",
     "output_type": "stream",
     "text": [
      "Exiting...\n"
     ]
    }
   ],
   "source": [
    "# Define a Student Class\n",
    "class Student:\n",
    "    total_students = 0 #class variable total_students to keep track of the total number of students.\n",
    "    # Implement a constructor (__init__) to initialize the student attributes.\n",
    "    def __init__(self,name,roll_number,age):\n",
    "        self.name = name\n",
    "        self.roll_number = roll_number\n",
    "        self.age = age\n",
    "        # Ensure that the marks attribute is initialized as an empty dictionary.\n",
    "        self.marks = {}\n",
    "        Student.total_students += 1 #Update the class variable whenever a new student object is created.\n",
    "\n",
    "    # implement instance methods\n",
    "    def add_marks(self,subject,marks):\n",
    "        self.marks[subject] = marks\n",
    "\n",
    "    def calculate_total_marks(self):\n",
    "        return sum(self.marks.values())\n",
    "\n",
    "    def calculate_percentage(self):\n",
    "        if not self.marks:  # Check if marks dictionary is empty\n",
    "            return 0.0  # Return 0 percentage if no marks are added\n",
    "        total_marks = self.calculate_total_marks()\n",
    "        return (total_marks / (len(self.marks) * 100)) * 100\n",
    "\n",
    "    def display_details(self):\n",
    "        print(f\"Name: {self.name}\")\n",
    "        print(f\"Roll Number: {self.roll_number}\")\n",
    "        print(f\"Age: {self.age}\")\n",
    "        print(f\"Marks:\")\n",
    "        for subject,marks in self.marks.items():\n",
    "            print(f\"{subject}: {marks}\")\n",
    "\n",
    "    @classmethod\n",
    "    def display_total_students(cls):\n",
    "        print(f\"Total Studetns: {cls.total_students}\")\n",
    "\n",
    "    def get_age(self):\n",
    "        return self.age\n",
    "\n",
    "    def set_age(self,age):\n",
    "        self.age = age\n",
    "\n",
    "    @staticmethod\n",
    "    def is_valid_roll_number(roll_number):\n",
    "        return isinstance(roll_number,(int,str))\n",
    "\n",
    "    @classmethod\n",
    "    def find_topper(cls, students):\n",
    "        topper = None\n",
    "        max_percentage = 0\n",
    "        for student in students:\n",
    "            percentage = student.calculate_percentage()\n",
    "            if percentage > max_percentage:\n",
    "                max_percentage = percentage\n",
    "                topper = student\n",
    "        return topper\n",
    "\n",
    "class TopperStudent(Student):\n",
    "    bonus_marks = 10\n",
    "\n",
    "    def __init__(self,name,roll_number,age):\n",
    "        super().__init__(name,roll_number,age)\n",
    "\n",
    "    def calculate_percentage(self):\n",
    "        total_marks = self.calculate_total_marks() + TopperStudent.bonus_marks\n",
    "        return (total_marks / (len(self.marks) * 100)) * 100\n",
    "\n",
    "def main():\n",
    "    students = []  # empty list to store student record\n",
    "    while True:\n",
    "        print(\"\\nStudent Management System\")\n",
    "        print(\"1. Add new Student\")\n",
    "        print(\"2. Add marks\")\n",
    "        print(\"3. Display Stduent Details\")\n",
    "        print(\"4. Display Total Students\")\n",
    "        print(\"5. Display Topper\")\n",
    "        print(\"6. Exit\")\n",
    "    \n",
    "        choice = input(\"Enter your choice: \")\n",
    "        \n",
    "        if choice == \"1\":\n",
    "            name  = input(\"Enter a name: \")\n",
    "            roll_number = input(\"Enter Roll number: \")\n",
    "            age = input(\"Enter age: \")\n",
    "            student = Student(name,roll_number,age)\n",
    "            students.append(student)\n",
    "            print(\"Student added scuccesfully\")\n",
    "    \n",
    "        elif choice == \"2\":\n",
    "            roll_number = input(\"Enter roll number of the student\")\n",
    "            for student in students:\n",
    "                if student.roll_number == roll_number:\n",
    "                    subject = input(\"Enter Subject name: \")\n",
    "                    marks = int(input(\"Enter marks: \"))\n",
    "                    student.add_marks(subject,marks)\n",
    "                    print(\"Marks added successfully\")\n",
    "                    break\n",
    "                    \n",
    "        elif choice == \"3\":\n",
    "            roll_number = input(\"Enter roll number of the student: \")\n",
    "            for student in students:\n",
    "                if student.roll_number == roll_number:\n",
    "                    student.display_details()\n",
    "                    print(f\"Total Marks: {student.calculate_total_marks()}\")   # print total marks\n",
    "                    percentage = int(student.calculate_percentage())\n",
    "                    print(f\"Percentage: {percentage}%\")  # Print percentage\n",
    "                    break\n",
    "            else:\n",
    "                print(\"Student not found.\")\n",
    "    \n",
    "        elif choice == \"4\":\n",
    "            Student.display_total_students()\n",
    "\n",
    "        elif choice == \"5\":\n",
    "            # Find the topper among all students\n",
    "            topper = Student.find_topper(students)\n",
    "            if topper:\n",
    "                print(\"\\nTopper Details:\")\n",
    "                topper.display_details()\n",
    "                print(f\"Total Marks: {topper.calculate_total_marks()}\")\n",
    "                print(f\"Percentage: {topper.calculate_percentage()}%\")\n",
    "            else:\n",
    "                print(\"No topper found.\")\n",
    "            \n",
    "        elif choice == \"6\":\n",
    "            print(\"Exiting...\")\n",
    "            break\n",
    "    \n",
    "        else:\n",
    "            print(\"Invalid choice. Please try again.\")\n",
    "\n",
    "\n",
    "if __name__ == \"__main__\":\n",
    "    main()"
   ]
  }
 ],
 "metadata": {
  "kernelspec": {
   "display_name": "Python 3 (ipykernel)",
   "language": "python",
   "name": "python3"
  },
  "language_info": {
   "codemirror_mode": {
    "name": "ipython",
    "version": 3
   },
   "file_extension": ".py",
   "mimetype": "text/x-python",
   "name": "python",
   "nbconvert_exporter": "python",
   "pygments_lexer": "ipython3",
   "version": "3.12.2"
  }
 },
 "nbformat": 4,
 "nbformat_minor": 5
}
