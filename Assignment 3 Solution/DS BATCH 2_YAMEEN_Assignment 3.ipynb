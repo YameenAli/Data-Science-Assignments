{
 "cells": [
  {
   "cell_type": "markdown",
   "id": "3191ed94-0499-4029-93ef-afe4563f5c52",
   "metadata": {},
   "source": [
    "# <center>Assignment 3 Solution </center>\n",
    "## <center>[Go to Github repository](https://github.com/YameenAli/Data-Science-Assignments/tree/478f70a044a9618a27eb79750c5c7f9c091739d7/Assignment%203%20Solution) </center>"
   ]
  },
  {
   "cell_type": "markdown",
   "id": "710ce8e6-50c0-4a58-97b4-bc56b9569765",
   "metadata": {},
   "source": [
    "# Question 1\n",
    "## Lists"
   ]
  },
  {
   "cell_type": "markdown",
   "id": "c4ce0d28-7231-4f1b-a427-3974b0c65931",
   "metadata": {},
   "source": [
    "1. Create an empty list my_list"
   ]
  },
  {
   "cell_type": "code",
   "execution_count": 23,
   "id": "f7597cb5-7909-47d3-aac9-963c8e564c63",
   "metadata": {},
   "outputs": [],
   "source": [
    "my_list = []"
   ]
  },
  {
   "cell_type": "markdown",
   "id": "86a0c85f-da34-45d1-8ff9-4acc8bc8e4e7",
   "metadata": {},
   "source": [
    "2. Append three elements to my_list using the append method"
   ]
  },
  {
   "cell_type": "code",
   "execution_count": 24,
   "id": "d6ff6bee-8eda-4dc8-b155-63b82b39f4f4",
   "metadata": {},
   "outputs": [
    {
     "name": "stdout",
     "output_type": "stream",
     "text": [
      "['apple', 'orange', 'mango']\n"
     ]
    }
   ],
   "source": [
    "my_list.append(\"apple\")\n",
    "my_list.append(\"orange\")\n",
    "my_list.append(\"mango\")\n",
    "print(my_list)"
   ]
  },
  {
   "cell_type": "markdown",
   "id": "f883f8f1-4487-4ad3-ae63-356b1ff8135f",
   "metadata": {},
   "source": [
    "3. Insert an element at a specific position in my_list using the insert method"
   ]
  },
  {
   "cell_type": "code",
   "execution_count": 37,
   "id": "c10be44e-77c6-43b7-9529-1b115746e561",
   "metadata": {},
   "outputs": [
    {
     "name": "stdout",
     "output_type": "stream",
     "text": [
      "['apple', 'banana', 'orange', 'mango']\n"
     ]
    }
   ],
   "source": [
    "# Inserting \"banana\" at index 1\n",
    "my_list.insert(1, \"banana\")\n",
    "print(my_list)"
   ]
  },
  {
   "cell_type": "markdown",
   "id": "d2225c14-c3d4-48ec-9cea-ac6f0a69d48b",
   "metadata": {},
   "source": [
    "4. Remove an element from my_list using the remove method.\r\n"
   ]
  },
  {
   "cell_type": "code",
   "execution_count": 38,
   "id": "280f3576-6dc4-4a99-95fd-53b2a710b13b",
   "metadata": {},
   "outputs": [],
   "source": [
    "# Removing \"banana\" from the list\n",
    "my_list.remove(\"banana\")"
   ]
  },
  {
   "cell_type": "markdown",
   "id": "3c7c9006-0841-4fc2-bd20-de19c7a46014",
   "metadata": {},
   "source": [
    "5. Print the final state of my_list.\r\n"
   ]
  },
  {
   "cell_type": "code",
   "execution_count": 40,
   "id": "ba66223d-4140-4a03-a07e-a84d75e9ddc3",
   "metadata": {},
   "outputs": [
    {
     "name": "stdout",
     "output_type": "stream",
     "text": [
      "['apple', 'orange', 'mango']\n"
     ]
    }
   ],
   "source": [
    "print(my_list)"
   ]
  },
  {
   "cell_type": "markdown",
   "id": "0c336547-1bab-4211-b2f8-9644673e8b74",
   "metadata": {},
   "source": [
    "---"
   ]
  },
  {
   "cell_type": "markdown",
   "id": "3d0701a6-eaeb-48f0-b004-3dfe89a618b9",
   "metadata": {},
   "source": [
    "# Question 2"
   ]
  },
  {
   "cell_type": "markdown",
   "id": "3e56e82a-44ae-43f3-9afc-d2636a11ab83",
   "metadata": {},
   "source": [
    "## Tuples"
   ]
  },
  {
   "cell_type": "markdown",
   "id": "0ac334a5-5d70-41d0-98d2-b1e1892c0d73",
   "metadata": {},
   "source": [
    "1. Create a tuple my_tuple with at least five elements.\r\n"
   ]
  },
  {
   "cell_type": "code",
   "execution_count": 42,
   "id": "00885933-0e5e-4bda-a705-b5b2d1593a11",
   "metadata": {},
   "outputs": [],
   "source": [
    "my_tuple = ('yameen','rafay','saad','ahmad','haseeb')"
   ]
  },
  {
   "cell_type": "markdown",
   "id": "2e54463b-ba8b-4f39-a642-b8db16c979e5",
   "metadata": {},
   "source": [
    "2. Use tuple unpacking to assign values to multiple variables.\r\n"
   ]
  },
  {
   "cell_type": "code",
   "execution_count": 47,
   "id": "fbdd71a0-3a24-4ab9-8241-0ba636e097f2",
   "metadata": {},
   "outputs": [
    {
     "name": "stdout",
     "output_type": "stream",
     "text": [
      "a : yameen\n",
      "b : rafay\n",
      "c : saad\n",
      "d : ahmad\n",
      "e : haseeb\n"
     ]
    }
   ],
   "source": [
    "# Unpack the tuple and assign values to variables\n",
    "a, b, c, d, e = my_tuple\n",
    "\n",
    "print(\"a :\", a)\n",
    "print(\"b :\", b)\n",
    "print(\"c :\", c)\n",
    "print(\"d :\", d)\n",
    "print(\"e :\", e)"
   ]
  },
  {
   "cell_type": "markdown",
   "id": "32b90529-c4fa-45dc-a59b-4196629ab117",
   "metadata": {},
   "source": [
    "3. Concatenate two tuples and print the result."
   ]
  },
  {
   "cell_type": "code",
   "execution_count": 48,
   "id": "ffddc6c2-a2ae-40b1-aeb7-4b6c93884470",
   "metadata": {},
   "outputs": [
    {
     "name": "stdout",
     "output_type": "stream",
     "text": [
      "(1, 2, 3, 4, 5, 6)\n"
     ]
    }
   ],
   "source": [
    "# Define two tuples\n",
    "tuple1 = (1, 2, 3)\n",
    "tuple2 = (4, 5, 6)\n",
    "\n",
    "# Concatenate the tuples\n",
    "result_tuple = tuple1 + tuple2\n",
    "print(result_tuple)"
   ]
  },
  {
   "cell_type": "markdown",
   "id": "817a4500-f122-4498-a8b4-e97f1798c4cd",
   "metadata": {},
   "source": [
    "4. Access and print the elements of my_tuple using both positive and\r\n",
    "negative indexing."
   ]
  },
  {
   "cell_type": "code",
   "execution_count": 53,
   "id": "a9c4e560-5535-4631-a564-350e2dce3111",
   "metadata": {},
   "outputs": [
    {
     "name": "stdout",
     "output_type": "stream",
     "text": [
      "Index 2: yameen\n",
      "Index -3: yameen\n"
     ]
    }
   ],
   "source": [
    "my_tuple = ('saad','rafay','yameen','ahmad','haseeb')\n",
    "\n",
    "# Access and print \"yameen\" using positive indexing\n",
    "print(\"Index 2:\",my_tuple[2])\n",
    "\n",
    "# Access and print \"yameen\" using negative indexing\n",
    "print(\"Index -3:\",my_tuple[-3])"
   ]
  },
  {
   "cell_type": "markdown",
   "id": "7a3b7cde-69c4-4c7c-98aa-cdb3b3bee2bb",
   "metadata": {},
   "source": [
    "5. Perform any operation that demonstrates that tuples are immutable.\n"
   ]
  },
  {
   "cell_type": "code",
   "execution_count": 60,
   "id": "7a3fc845-c01d-4028-913a-261ee425d9b7",
   "metadata": {},
   "outputs": [
    {
     "name": "stdout",
     "output_type": "stream",
     "text": [
      "Error: 'tuple' object does not support item assignment\n"
     ]
    }
   ],
   "source": [
    "my_tuple = (1, 2, 3, 4, 5)\n",
    "\n",
    "# Try to modify an element of the tuple\n",
    "try:\n",
    "    my_tuple[0] = 10  # Trying to change the first element\n",
    "except TypeError as e:\n",
    "    print(\"Error:\", e)"
   ]
  },
  {
   "cell_type": "markdown",
   "id": "c1a52c05-fe36-4904-a44b-b21cd18255ec",
   "metadata": {},
   "source": [
    "---"
   ]
  },
  {
   "cell_type": "markdown",
   "id": "11a7851b-cf27-448c-b958-c5181bbfc9f0",
   "metadata": {},
   "source": [
    "# Question 3"
   ]
  },
  {
   "cell_type": "markdown",
   "id": "2d0b4fbf-2683-4d70-87ad-67c38910ebf0",
   "metadata": {},
   "source": [
    "## Input and output"
   ]
  },
  {
   "cell_type": "markdown",
   "id": "11f6496c-0f08-44f1-9eba-c31390c5347f",
   "metadata": {},
   "source": [
    "1. Prompt the user to enter their name using input.\n"
   ]
  },
  {
   "cell_type": "code",
   "execution_count": 64,
   "id": "fd7f4ccf-416d-48fc-ba66-47ec7babc0c3",
   "metadata": {},
   "outputs": [
    {
     "name": "stdin",
     "output_type": "stream",
     "text": [
      "Enter your name:  yameen\n"
     ]
    }
   ],
   "source": [
    "name = input(\"Enter your name: \")"
   ]
  },
  {
   "cell_type": "markdown",
   "id": "e9774638-6e97-42c5-adfc-045438a74f0b",
   "metadata": {},
   "source": [
    "2. Print a welcome message using the entered name.\n"
   ]
  },
  {
   "cell_type": "code",
   "execution_count": 67,
   "id": "f57b4bb2-af60-4015-a55c-273c939e8fba",
   "metadata": {},
   "outputs": [
    {
     "name": "stdin",
     "output_type": "stream",
     "text": [
      "Enter your name:  yameen\n"
     ]
    },
    {
     "name": "stdout",
     "output_type": "stream",
     "text": [
      "Hello Welcome yameen!\n"
     ]
    }
   ],
   "source": [
    "name = input(\"Enter your name: \")\n",
    "print(f\"Hello Welcome {name}!\")"
   ]
  },
  {
   "cell_type": "markdown",
   "id": "5fa40ac8-adfe-4cc8-8940-d88fc6494598",
   "metadata": {},
   "source": [
    "3. Ask the user to input two numbers, convert them to integers, and\n",
    "calculate their sum and product.\n",
    "4. Display the results using formatted output.\r\n"
   ]
  },
  {
   "cell_type": "code",
   "execution_count": 71,
   "id": "bfb812d0-c20f-4723-82a6-52d582345db8",
   "metadata": {},
   "outputs": [
    {
     "name": "stdin",
     "output_type": "stream",
     "text": [
      "Enter first number:  10\n",
      "Enter Second number:  8\n"
     ]
    },
    {
     "name": "stdout",
     "output_type": "stream",
     "text": [
      "The sum of 10 + 8 is = 18\n",
      "The product of 10 + 8 is = 80\n"
     ]
    }
   ],
   "source": [
    "num_1 = int(input(\"Enter first number: \"))\n",
    "num_2 = int(input(\"Enter Second number: \"))\n",
    "\n",
    "# sum\n",
    "s = num_1 + num_2\n",
    "print(f\"The sum of {num_1} + {num_2} is = {s}\")\n",
    "\n",
    "# product\n",
    "p = num_1 * num_2\n",
    "print(f\"The product of {num_1} + {num_2} is = {p}\")"
   ]
  },
  {
   "cell_type": "markdown",
   "id": "10afbc3a-0f71-4fe5-be97-0382bfda9447",
   "metadata": {},
   "source": [
    "---"
   ]
  },
  {
   "cell_type": "markdown",
   "id": "d0d196c9-b9ef-44bf-a365-b25ff304600d",
   "metadata": {},
   "source": [
    "# Question 4\n",
    "## Operators"
   ]
  },
  {
   "cell_type": "markdown",
   "id": "76b4c876-47cb-4f2a-887b-bee42f9f8661",
   "metadata": {},
   "source": [
    "1. Create a variable number and initialize it with an integer value.\n"
   ]
  },
  {
   "cell_type": "code",
   "execution_count": 75,
   "id": "21d22269-b33f-43f5-befe-bc46ebb4b215",
   "metadata": {},
   "outputs": [],
   "source": [
    "num = 10"
   ]
  },
  {
   "cell_type": "markdown",
   "id": "62501e1c-53bd-4535-a36a-97438f9298a0",
   "metadata": {},
   "source": [
    "\n",
    "2. Use the modulus operator to check if the num is even or odd.\n"
   ]
  },
  {
   "cell_type": "code",
   "execution_count": 76,
   "id": "7d3a265e-6081-4f04-b8f3-0c2a3b9fd9bf",
   "metadata": {},
   "outputs": [
    {
     "name": "stdout",
     "output_type": "stream",
     "text": [
      "10 is even\n"
     ]
    }
   ],
   "source": [
    "# Check if the number is even or odd using the modulus operator\n",
    "if num % 2 == 0:\n",
    "    print(num, \"is even\")\n",
    "else:\n",
    "    print(num, \"is odd\")"
   ]
  },
  {
   "cell_type": "markdown",
   "id": "addbf0f6-f6c6-4a2d-8154-8a16e2eb1e7b",
   "metadata": {},
   "source": [
    "3. Use a comparison operator to check if the num is greater than or equal\n",
    "to 10."
   ]
  },
  {
   "cell_type": "code",
   "execution_count": 77,
   "id": "f2791d54-0cec-4948-aed7-f94ef67563a7",
   "metadata": {},
   "outputs": [
    {
     "name": "stdout",
     "output_type": "stream",
     "text": [
      "10 is greater than or equal to 10\n"
     ]
    }
   ],
   "source": [
    "# Check if the number is greater than or equal to 10 using a comparison operator\n",
    "if num >= 10:\n",
    "    print(num, \"is greater than or equal to 10\")\n",
    "else:\n",
    "    print(num, \"is less than 10\")"
   ]
  },
  {
   "cell_type": "markdown",
   "id": "68c54e88-6559-4477-ba04-5cebd2b94d37",
   "metadata": {},
   "source": [
    "4. Combine logical operators to create a complex condition and print the\n",
    "result."
   ]
  },
  {
   "cell_type": "code",
   "execution_count": 78,
   "id": "cdf9329b-0ef4-4552-aeda-4211370048dd",
   "metadata": {},
   "outputs": [
    {
     "name": "stdout",
     "output_type": "stream",
     "text": [
      "10 satisfies the complex condition\n"
     ]
    }
   ],
   "source": [
    "# Combine logical operators to create a complex condition\n",
    "if num % 2 == 0 and num >= 10:\n",
    "    print(num, \"satisfies the complex condition\")\n",
    "else:\n",
    "    print(num, \"does not satisfy the complex condition\")"
   ]
  },
  {
   "cell_type": "markdown",
   "id": "e5c000ce-f118-46ad-b089-d55ab28976a6",
   "metadata": {},
   "source": [
    "---"
   ]
  },
  {
   "cell_type": "markdown",
   "id": "bcedb74c-5537-4fa8-bf8d-69bf7382d8c8",
   "metadata": {},
   "source": [
    "<center>End</center>"
   ]
  }
 ],
 "metadata": {
  "kernelspec": {
   "display_name": "Python 3 (ipykernel)",
   "language": "python",
   "name": "python3"
  },
  "language_info": {
   "codemirror_mode": {
    "name": "ipython",
    "version": 3
   },
   "file_extension": ".py",
   "mimetype": "text/x-python",
   "name": "python",
   "nbconvert_exporter": "python",
   "pygments_lexer": "ipython3",
   "version": "3.12.1"
  }
 },
 "nbformat": 4,
 "nbformat_minor": 5
}
