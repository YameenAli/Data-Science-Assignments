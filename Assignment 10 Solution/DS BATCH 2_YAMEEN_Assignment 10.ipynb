{
 "cells": [
  {
   "cell_type": "markdown",
   "id": "2d462bec",
   "metadata": {},
   "source": [
    "# <p style=\"text-align: center;\">Assignment 10 Solution</p>\n",
    "### <p style=\"text-align: center;\">Submitted by: Yameen Ali</p>\n",
    "### <p style=\"text-align: center;\"><a href=\"https://github.com/YameenAli/Data-Science-Assignments/tree/main/Assignment%2010%20Solution\">Go to Github repository</a></p>\n",
    "---\n"
   ]
  },
  {
   "cell_type": "markdown",
   "id": "8be45296",
   "metadata": {},
   "source": [
    "# Topics Covered \n",
    "\n",
    "1. Conditional Statements\n",
    "2. Error Handling\n",
    "3. Function Definition\n",
    "4. Discrete Fourier Transform (DFT)\n",
    "5. Mathematical Operations\n",
    "6. Complex Numbers\n",
    "7. Poisson Distribution\n",
    "8. Random Number Generation\n",
    "9. Probability Mass Function\n",
    "10. Data Structures (Lists, Tuples, Dictionaries)\n",
    "11. Enumeration and Indexing\n",
    "12. Zip Function\n",
    "13. Random Selection\n",
    "14. Randomization\n",
    "15. Shuffling\n",
    "16. Python Scripting\n",
    "17. Code Commenting\n",
    "18. Testing and Debugging"
   ]
  },
  {
   "cell_type": "markdown",
   "id": "acbaef6f",
   "metadata": {},
   "source": [
    "---"
   ]
  },
  {
   "cell_type": "markdown",
   "id": "aa762748",
   "metadata": {},
   "source": [
    "# Question1:\n",
    "## You are developing a Python program for a student grading system. Implement a function calculate_grade that takes a student's score as input and returns their grade based on the following criteria:\n",
    "▪ A score >= 90: Grade A\n",
    "▪ 80 <= score < 90: Grade B\n",
    "▪ 70 <= score < 80: Grade C\n",
    "▪ 60 <= score < 70: Grade D\n",
    "▪ score < 60: Grade F\n",
    "### However, if the input score is not a valid integer or is outside the range of 0 to 100, raise a ValueError with an appropriate error message ( Invalid score. Score must be an integer between 0 and 100 )."
   ]
  },
  {
   "cell_type": "code",
   "execution_count": 5,
   "id": "46f662db",
   "metadata": {},
   "outputs": [
    {
     "name": "stdout",
     "output_type": "stream",
     "text": [
      "Enter Student Score: 60\n",
      "D\n"
     ]
    }
   ],
   "source": [
    "def calculate_grade(score):\n",
    "    if not isinstance(score, int) or score < 0 or score > 100:\n",
    "        raise ValueError(\"Invalid score. Score must be an integer between 0 and 100\")\n",
    "    \n",
    "    if score >= 90:\n",
    "        return \"A\"\n",
    "    elif score >= 80:\n",
    "        return \"B\"\n",
    "    elif score >= 70:\n",
    "        return \"C\"\n",
    "    elif score >= 60:\n",
    "        return \"D\"\n",
    "    else:\n",
    "        return \"F\"\n",
    "\n",
    "try:\n",
    "    score = int(input(\"Enter Student Score: \"))\n",
    "    print(calculate_grade(score))\n",
    "    \n",
    "except ValueError as e:\n",
    "    print(e)\n"
   ]
  },
  {
   "cell_type": "markdown",
   "id": "d8cd11c8",
   "metadata": {},
   "source": [
    "---"
   ]
  },
  {
   "attachments": {
    "image.png": {
     "image/png": "[encoded data removed]"
    }
   },
   "cell_type": "markdown",
   "id": "e5409975",
   "metadata": {},
   "source": [
    "# Question2:\n",
    "## You are tasked with implementing a Python program to compute the Discrete Fourier Transform (DFT) of a given discrete signal x[n] consisting of N samples. However, you are only allowed to use basic mathematical operations and functions provided by the math module, and you must avoid relying on external libraries such as NumPy or SciPy.\n",
    "\n",
    "### Write a Python function compute_dft that takes the discrete signal x[n] as input and returns its DFT X[k], where k represents the frequency index. Your implementation should follow the formula for the DFT, which is given by:\n",
    "![image.png](attachment:image.png)\n",
    "\n",
    "## Your function should implement this formula using basic mathematical operations and functions provided by the math module, such as exponentiation and trigonometric functions."
   ]
  },
  {
   "cell_type": "code",
   "execution_count": 26,
   "id": "fab0b7c3",
   "metadata": {},
   "outputs": [
    {
     "name": "stdout",
     "output_type": "stream",
     "text": [
      "X[0] = (10+0j)\n",
      "X[1] = (-2.0000000000000004+1.9999999999999996j)\n",
      "X[2] = (-2-9.797174393178826e-16j)\n",
      "X[3] = (-1.9999999999999982-2.000000000000001j)\n"
     ]
    }
   ],
   "source": [
    "import math\n",
    "\n",
    "def compute_dft(x):\n",
    "    N = len(x)\n",
    "    X = []\n",
    "    for k in range(N):\n",
    "        real_part = 0.0\n",
    "        imag_part = 0.0\n",
    "        for n in range(N):\n",
    "            angle = 2 * math.pi * k * n / N\n",
    "            real_part += x[n] * math.cos(angle)\n",
    "            imag_part -= x[n] * math.sin(angle)\n",
    "        X.append(complex(real_part, imag_part))\n",
    "    return X\n",
    "\n",
    "\n",
    "x = [1, 2, 3, 4]\n",
    "dft_result = compute_dft(x)\n",
    "for k, Xk in enumerate(dft_result):\n",
    "    print(f\"X[{k}] = {Xk}\")\n"
   ]
  },
  {
   "cell_type": "markdown",
   "id": "0a7f7691",
   "metadata": {},
   "source": [
    "---"
   ]
  },
  {
   "cell_type": "markdown",
   "id": "6e9fe31b",
   "metadata": {},
   "source": [
    "# Question3:\n",
    "## Suppose you are managing a website that experiences an average of 3 user visits per minute during peak hours. You are interested in analyzing the number of user visits occurring in a 5-minute interval using the Poisson distribution.\n",
    "\n",
    "#### Write a Python program to simulate the number of user visits in a 5-minute interval based on the Poisson distribution with an average rate of 3 user visits per minute. Provide your program and the simulated number of user visits in a 5-minute interval.\n",
    "\n",
    "#### The Poisson distribution is a discrete probability distribution that expresses the probability of a given number of events occurring in a fixed interval of time or space, assuming that these events occur with a known constant rate and are independent of the time since the last event. The Poisson distribution is characterized by a single parameter, λ, which represents the average rate of occurrence of the events.\n",
    "\n",
    "## The probability mass function (PMF) of the Poisson distribution is given by the formula:\n",
    "\n",
    "## Where:\n",
    "-  P(X=k) is the probability of observing k events in the interval.\n",
    "- e is the base of the natural logarithm, approximately equal to 2.71828.\n",
    "- λ is the average rate of occurrence of events in the interval.\n",
    "- k is the number of events observed in the interval.\n",
    "- k! represents the factorial of k, the product of all positive integers up to k.\n",
    "\n",
    "### This formula gives the probability of observing exactly k events in the interval, given the average rate λ. The Poisson distribution is commonly used in various fields, including queuing theory, telecommunications, biology, and finance, to model the occurrence of rare events over time or space."
   ]
  },
  {
   "cell_type": "code",
   "execution_count": 23,
   "id": "76533518",
   "metadata": {},
   "outputs": [
    {
     "name": "stdout",
     "output_type": "stream",
     "text": [
      "Simulated number of user visits in 5 minutes: 12\n"
     ]
    }
   ],
   "source": [
    "import random\n",
    "import math\n",
    "\n",
    "def simulate_user_visits(average_rate_per_minute, interval_minutes):\n",
    "\n",
    "  # Calculate the average rate for the entire interval\n",
    "  average_rate = average_rate_per_minute * interval_minutes\n",
    "\n",
    "  # Check for Python version compatibility\n",
    "  if hasattr(random, 'poissonvariate'):\n",
    "    number_of_visits = random.poissonvariate(average_rate)\n",
    "  else:\n",
    "    # Implement Poisson PMF for older Python versions\n",
    "    lambda_exp = math.exp(-average_rate)\n",
    "    number_of_visits = 0\n",
    "    k = 0\n",
    "    while True:\n",
    "      p = (average_rate**k) * lambda_exp / math.factorial(k)\n",
    "      if p < 1e-30:  # Threshold for very small probabilities\n",
    "        break\n",
    "      if random.random() < p:\n",
    "        number_of_visits += k\n",
    "      k += 1\n",
    "\n",
    "  return number_of_visits\n",
    "\n",
    "# Example Usage\n",
    "average_rate_per_minute = 3\n",
    "interval_minutes = 5\n",
    "\n",
    "simulated_visits = simulate_user_visits(average_rate_per_minute, interval_minutes)\n",
    "print(f\"Simulated number of user visits in {interval_minutes} minutes: {simulated_visits}\")\n"
   ]
  },
  {
   "cell_type": "markdown",
   "id": "c0b9fd1a",
   "metadata": {},
   "source": [
    "---"
   ]
  },
  {
   "cell_type": "markdown",
   "id": "08057e61",
   "metadata": {},
   "source": [
    "# Question4:\n",
    "## You are a manager at a retail store, and you need to efficiently manage your inventory. Your task is to categorize and organize the products in the inventory based on their popularity and availability.\n",
    "\n",
    "### You decide to use Python to assist you in this task. You have a list of products in your inventory, each represented by a tuple containing the product name, its category, and its availability status (True for available, False for out of stock).\n",
    "\n",
    "## Your goal is to:\n",
    "-  Enumerate through the list of products and assign a unique product ID to each\n",
    "product.\n",
    "-  Use the zip function to create a dictionary that categorizes the products based\n",
    "on their availability status (available or out of stock).\n",
    "-  Randomly select a product from the available products to promote as a\n",
    "special offer.\n",
    "\n",
    "## Write a Python program to accomplish the above tasks using the enumerate, zip, and random libraries.\n",
    "\n",
    "### Example of Inventory:\n",
    "inventory = [\n",
    "(\"Smartphone\", \"Electronics\", True),\n",
    "(\"Jeans\", \"Apparel\", True),\n",
    "(\"Laptop\", \"Electronics\", False),\n",
    "(\"T-shirt\", \"Apparel\", True),\n",
    "(\"Headphones\", \"Electronics\", True)\n",
    "]"
   ]
  },
  {
   "cell_type": "markdown",
   "id": "b80d8468",
   "metadata": {},
   "source": [
    "#### Task 1: Enumerate through the list of products and assign a unique product ID to each product\n",
    "#### Task 2: Use the zip function to create a dictionary that categorizes the products based on their availability status\n",
    "#### Task 3: Randomly select a product from the available products to promote as a special offer"
   ]
  },
  {
   "cell_type": "code",
   "execution_count": 1,
   "id": "19a78b87",
   "metadata": {},
   "outputs": [
    {
     "name": "stdout",
     "output_type": "stream",
     "text": [
      "Enumerated Inventory:\n",
      "(1, 'Smartphone', 'Electronics', True)\n",
      "(2, 'Jeans', 'Apparel', True)\n",
      "(3, 'Laptop', 'Electronics', False)\n",
      "(4, 'T-shirt', 'Apparel', True)\n",
      "(5, 'Headphones', 'Electronics', True)\n",
      "\n",
      "Categorized Products:\n",
      "Available:\n",
      "(1, 'Smartphone', 'Electronics', True)\n",
      "(2, 'Jeans', 'Apparel', True)\n",
      "(4, 'T-shirt', 'Apparel', True)\n",
      "(5, 'Headphones', 'Electronics', True)\n",
      "Out of Stock:\n",
      "(3, 'Laptop', 'Electronics', False)\n",
      "\n",
      "Special Offer Product:\n",
      "(5, 'Headphones', 'Electronics', True)\n"
     ]
    }
   ],
   "source": [
    "import random\n",
    "\n",
    "inventory = [\n",
    "    (\"Smartphone\", \"Electronics\", True),\n",
    "    (\"Jeans\", \"Apparel\", True),\n",
    "    (\"Laptop\", \"Electronics\", False),\n",
    "    (\"T-shirt\", \"Apparel\", True),\n",
    "    (\"Headphones\", \"Electronics\", True)\n",
    "]\n",
    "\n",
    "# Task 1:\n",
    "enumerated_inventory = [(idx, *product) for idx, product in enumerate(inventory, start=1)]\n",
    "\n",
    "# Task 2:\n",
    "available_products = [product for product in enumerated_inventory if product[3]]\n",
    "out_of_stock_products = [product for product in enumerated_inventory if not product[3]]\n",
    "\n",
    "categorized_products = {\n",
    "    \"Available\": available_products,\n",
    "    \"Out of Stock\": out_of_stock_products\n",
    "}\n",
    "\n",
    "# Task 3:\n",
    "if available_products:\n",
    "    special_offer = random.choice(available_products)\n",
    "else:\n",
    "    special_offer = None\n",
    "\n",
    "# Output results\n",
    "print(\"Enumerated Inventory:\")\n",
    "for product in enumerated_inventory:\n",
    "    print(product)\n",
    "\n",
    "print(\"\\nCategorized Products:\")\n",
    "print(\"Available:\")\n",
    "for product in categorized_products[\"Available\"]:\n",
    "    print(product)\n",
    "print(\"Out of Stock:\")\n",
    "for product in categorized_products[\"Out of Stock\"]:\n",
    "    print(product)\n",
    "\n",
    "print(\"\\nSpecial Offer Product:\")\n",
    "if special_offer:\n",
    "    print(special_offer)\n",
    "else:\n",
    "    print(\"No available products to promote as a special offer.\")"
   ]
  },
  {
   "cell_type": "markdown",
   "id": "1c783a10",
   "metadata": {},
   "source": [
    "---"
   ]
  },
  {
   "cell_type": "markdown",
   "id": "5c5f33a5",
   "metadata": {},
   "source": [
    "# Question5:\n",
    "## You are a teacher preparing for an upcoming class quiz, and you want to create a randomized quiz generator to ensure that each student receives a unique set of questions.This will prevent cheating and encourage individual understanding of the material.\n",
    "\n",
    "### Your goal is to create a Python program that generates randomized quizzes consisting of questions from a predefined question bank.\n",
    "\n",
    "## Your program should:\n",
    "- Define a question bank containing a variety of questions on different\n",
    "topics or subjects.\n",
    "- Implement logic to randomly select a specified number of questions\n",
    "from the question bank for each quiz.\n",
    "- Ensure that each quiz generated has a unique set of randomized\n",
    "questions, preventing duplicates.\n",
    "- Optionally, include features such as shuffling the order of questions\n",
    "within each quiz and providing answer keys for grading purposes.\n",
    "\n",
    "### Write a Python program to accomplish the above tasks, allowing teachers to generate randomized quizzes quickly and efficiently for their students."
   ]
  },
  {
   "cell_type": "code",
   "execution_count": 25,
   "id": "d2c19cbf",
   "metadata": {},
   "outputs": [
    {
     "name": "stdout",
     "output_type": "stream",
     "text": [
      "Quiz for Student 1:\n",
      "1. Who wrote 'To Kill a Mockingbird'?\n",
      "2. Who painted the Mona Lisa?\n",
      "3. What is the capital of France?\n",
      "4. What is the boiling point of water?\n",
      "5. What is the square root of 64?\n",
      "\n",
      "Answer Key for Student 1:\n",
      "1. Harper Lee\n",
      "2. Leonardo da Vinci\n",
      "3. Paris\n",
      "4. 100°C\n",
      "5. 8\n",
      "---------\n",
      "\n",
      "Quiz for Student 2:\n",
      "1. What is the largest planet in our solar system?\n",
      "2. What is the square root of 64?\n",
      "3. Who is the author of '1984'?\n",
      "4. What is 2 + 2?\n",
      "5. What is the capital of France?\n",
      "\n",
      "Answer Key for Student 2:\n",
      "1. Jupiter\n",
      "2. 8\n",
      "3. George Orwell\n",
      "4. 4\n",
      "5. Paris\n",
      "---------\n",
      "\n",
      "Quiz for Student 3:\n",
      "1. What is the square root of 64?\n",
      "2. What is the largest planet in our solar system?\n",
      "3. Who is the author of '1984'?\n",
      "4. What is the tallest mountain in the world?\n",
      "5. Who wrote 'To Kill a Mockingbird'?\n",
      "\n",
      "Answer Key for Student 3:\n",
      "1. 8\n",
      "2. Jupiter\n",
      "3. George Orwell\n",
      "4. Mount Everest\n",
      "5. Harper Lee\n",
      "---------\n",
      "\n"
     ]
    }
   ],
   "source": [
    "import random\n",
    "\n",
    "# Define a question bank\n",
    "question_bank = [\n",
    "    {\"question\": \"What is the capital of Pakistan?\", \"answer\": \"Islamabad\"},\n",
    "    {\"question\": \"What is 16 + 2?\", \"answer\": \"18\"},\n",
    "    {\"question\": \"Who wrote 'To Kill a Mockingbird'?\", \"answer\": \"Harper Lee\"},\n",
    "    {\"question\": \"What is the largest planet in our solar system?\", \"answer\": \"Jupiter\"},\n",
    "    {\"question\": \"What is the boiling point of water?\", \"answer\": \"100°C\"},\n",
    "    {\"question\": \"Who painted the Mona Lisa?\", \"answer\": \"Leonardo da Vinci\"},\n",
    "    {\"question\": \"What is the square root of 64?\", \"answer\": \"8\"},\n",
    "    {\"question\": \"Who is the author of '1984'?\", \"answer\": \"George Orwell\"},\n",
    "    {\"question\": \"What is the chemical symbol for gold?\", \"answer\": \"Au\"},\n",
    "    {\"question\": \"What is the tallest mountain in the world?\", \"answer\": \"Mount Everest\"}\n",
    "]\n",
    "\n",
    "def generate_quiz(question_bank, num_questions):\n",
    "    # Randomly select the specified number of questions from the question bank\n",
    "    selected_questions = random.sample(question_bank, num_questions)\n",
    "    # Shuffle the order of questions within the quiz\n",
    "    random.shuffle(selected_questions)\n",
    "    return selected_questions\n",
    "\n",
    "def generate_answer_key(quiz):\n",
    "    answer_key = {i+1: question[\"answer\"] for i, question in enumerate(quiz)}\n",
    "    return answer_key\n",
    "\n",
    "# Generate a quiz for each student\n",
    "num_questions = 5\n",
    "num_students = 3\n",
    "\n",
    "for student_id in range(1, num_students + 1):\n",
    "    print(f\"Quiz for Student {student_id}:\")\n",
    "    quiz = generate_quiz(question_bank, num_questions)\n",
    "    for i, question in enumerate(quiz):\n",
    "        print(f\"{i+1}. {question['question']}\")\n",
    "    print()\n",
    "\n",
    "    # Generate and print the answer key\n",
    "    answer_key = generate_answer_key(quiz)\n",
    "    print(f\"Answer Key for Student {student_id}:\")\n",
    "    for q_num, answer in answer_key.items():\n",
    "        print(f\"{q_num}. {answer}\")\n",
    "    print(\"---------\\n\")\n"
   ]
  }
 ],
 "metadata": {
  "kernelspec": {
   "display_name": "Python 3 (ipykernel)",
   "language": "python",
   "name": "python3"
  },
  "language_info": {
   "codemirror_mode": {
    "name": "ipython",
    "version": 3
   },
   "file_extension": ".py",
   "mimetype": "text/x-python",
   "name": "python",
   "nbconvert_exporter": "python",
   "pygments_lexer": "ipython3",
   "version": "3.11.4"
  }
 },
 "nbformat": 4,
 "nbformat_minor": 5
}
