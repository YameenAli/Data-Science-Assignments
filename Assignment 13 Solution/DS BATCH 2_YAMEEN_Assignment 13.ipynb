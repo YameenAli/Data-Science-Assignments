{
 "cells": [
  {
   "cell_type": "markdown",
   "id": "af2c6aef",
   "metadata": {},
   "source": [
    "# <p style=\"text-align: center;\">Assignment 13 Solution</p>\n",
    "### <p style=\"text-align: center;\">Submitted by: Yameen Ali</p>\n",
    "### <p style=\"text-align: center;\"><a href=\"https://github.com/YameenAli/Data-Science-Assignments/tree/main/Assignment%2013%20Solution\">Go to Github repository</a></p>\n",
    "---"
   ]
  },
  {
   "cell_type": "markdown",
   "id": "85c62d19",
   "metadata": {},
   "source": [
    "#  Exploratory Data Analysis (EDA) on TITANIC Dataset"
   ]
  },
  {
   "cell_type": "markdown",
   "id": "863c74a4",
   "metadata": {},
   "source": [
    "## Importing Dependencies"
   ]
  },
  {
   "cell_type": "code",
   "execution_count": 2,
   "id": "00a86621",
   "metadata": {},
   "outputs": [],
   "source": [
    "import seaborn as sns\n",
    "import numpy as np\n",
    "import pandas as pd"
   ]
  },
  {
   "cell_type": "markdown",
   "id": "9d07b3d3",
   "metadata": {},
   "source": [
    "## Load Dataset from Seaborn"
   ]
  },
  {
   "cell_type": "code",
   "execution_count": 3,
   "id": "eec2e67d",
   "metadata": {},
   "outputs": [],
   "source": [
    "df = sns.load_dataset('titanic')"
   ]
  },
  {
   "cell_type": "code",
   "execution_count": 4,
   "id": "0420dba5",
   "metadata": {},
   "outputs": [
    {
     "data": {
      "text/html": [
       "<div>\n",
       "<style scoped>\n",
       "    .dataframe tbody tr th:only-of-type {\n",
       "        vertical-align: middle;\n",
       "    }\n",
       "\n",
       "    .dataframe tbody tr th {\n",
       "        vertical-align: top;\n",
       "    }\n",
       "\n",
       "    .dataframe thead th {\n",
       "        text-align: right;\n",
       "    }\n",
       "</style>\n",
       "<table border=\"1\" class=\"dataframe\">\n",
       "  <thead>\n",
       "    <tr style=\"text-align: right;\">\n",
       "      <th></th>\n",
       "      <th>survived</th>\n",
       "      <th>pclass</th>\n",
       "      <th>sex</th>\n",
       "      <th>age</th>\n",
       "      <th>sibsp</th>\n",
       "      <th>parch</th>\n",
       "      <th>fare</th>\n",
       "      <th>embarked</th>\n",
       "      <th>class</th>\n",
       "      <th>who</th>\n",
       "      <th>adult_male</th>\n",
       "      <th>deck</th>\n",
       "      <th>embark_town</th>\n",
       "      <th>alive</th>\n",
       "      <th>alone</th>\n",
       "    </tr>\n",
       "  </thead>\n",
       "  <tbody>\n",
       "    <tr>\n",
       "      <th>0</th>\n",
       "      <td>0</td>\n",
       "      <td>3</td>\n",
       "      <td>male</td>\n",
       "      <td>22.0</td>\n",
       "      <td>1</td>\n",
       "      <td>0</td>\n",
       "      <td>7.2500</td>\n",
       "      <td>S</td>\n",
       "      <td>Third</td>\n",
       "      <td>man</td>\n",
       "      <td>True</td>\n",
       "      <td>NaN</td>\n",
       "      <td>Southampton</td>\n",
       "      <td>no</td>\n",
       "      <td>False</td>\n",
       "    </tr>\n",
       "    <tr>\n",
       "      <th>1</th>\n",
       "      <td>1</td>\n",
       "      <td>1</td>\n",
       "      <td>female</td>\n",
       "      <td>38.0</td>\n",
       "      <td>1</td>\n",
       "      <td>0</td>\n",
       "      <td>71.2833</td>\n",
       "      <td>C</td>\n",
       "      <td>First</td>\n",
       "      <td>woman</td>\n",
       "      <td>False</td>\n",
       "      <td>C</td>\n",
       "      <td>Cherbourg</td>\n",
       "      <td>yes</td>\n",
       "      <td>False</td>\n",
       "    </tr>\n",
       "    <tr>\n",
       "      <th>2</th>\n",
       "      <td>1</td>\n",
       "      <td>3</td>\n",
       "      <td>female</td>\n",
       "      <td>26.0</td>\n",
       "      <td>0</td>\n",
       "      <td>0</td>\n",
       "      <td>7.9250</td>\n",
       "      <td>S</td>\n",
       "      <td>Third</td>\n",
       "      <td>woman</td>\n",
       "      <td>False</td>\n",
       "      <td>NaN</td>\n",
       "      <td>Southampton</td>\n",
       "      <td>yes</td>\n",
       "      <td>True</td>\n",
       "    </tr>\n",
       "    <tr>\n",
       "      <th>3</th>\n",
       "      <td>1</td>\n",
       "      <td>1</td>\n",
       "      <td>female</td>\n",
       "      <td>35.0</td>\n",
       "      <td>1</td>\n",
       "      <td>0</td>\n",
       "      <td>53.1000</td>\n",
       "      <td>S</td>\n",
       "      <td>First</td>\n",
       "      <td>woman</td>\n",
       "      <td>False</td>\n",
       "      <td>C</td>\n",
       "      <td>Southampton</td>\n",
       "      <td>yes</td>\n",
       "      <td>False</td>\n",
       "    </tr>\n",
       "    <tr>\n",
       "      <th>4</th>\n",
       "      <td>0</td>\n",
       "      <td>3</td>\n",
       "      <td>male</td>\n",
       "      <td>35.0</td>\n",
       "      <td>0</td>\n",
       "      <td>0</td>\n",
       "      <td>8.0500</td>\n",
       "      <td>S</td>\n",
       "      <td>Third</td>\n",
       "      <td>man</td>\n",
       "      <td>True</td>\n",
       "      <td>NaN</td>\n",
       "      <td>Southampton</td>\n",
       "      <td>no</td>\n",
       "      <td>True</td>\n",
       "    </tr>\n",
       "    <tr>\n",
       "      <th>...</th>\n",
       "      <td>...</td>\n",
       "      <td>...</td>\n",
       "      <td>...</td>\n",
       "      <td>...</td>\n",
       "      <td>...</td>\n",
       "      <td>...</td>\n",
       "      <td>...</td>\n",
       "      <td>...</td>\n",
       "      <td>...</td>\n",
       "      <td>...</td>\n",
       "      <td>...</td>\n",
       "      <td>...</td>\n",
       "      <td>...</td>\n",
       "      <td>...</td>\n",
       "      <td>...</td>\n",
       "    </tr>\n",
       "    <tr>\n",
       "      <th>886</th>\n",
       "      <td>0</td>\n",
       "      <td>2</td>\n",
       "      <td>male</td>\n",
       "      <td>27.0</td>\n",
       "      <td>0</td>\n",
       "      <td>0</td>\n",
       "      <td>13.0000</td>\n",
       "      <td>S</td>\n",
       "      <td>Second</td>\n",
       "      <td>man</td>\n",
       "      <td>True</td>\n",
       "      <td>NaN</td>\n",
       "      <td>Southampton</td>\n",
       "      <td>no</td>\n",
       "      <td>True</td>\n",
       "    </tr>\n",
       "    <tr>\n",
       "      <th>887</th>\n",
       "      <td>1</td>\n",
       "      <td>1</td>\n",
       "      <td>female</td>\n",
       "      <td>19.0</td>\n",
       "      <td>0</td>\n",
       "      <td>0</td>\n",
       "      <td>30.0000</td>\n",
       "      <td>S</td>\n",
       "      <td>First</td>\n",
       "      <td>woman</td>\n",
       "      <td>False</td>\n",
       "      <td>B</td>\n",
       "      <td>Southampton</td>\n",
       "      <td>yes</td>\n",
       "      <td>True</td>\n",
       "    </tr>\n",
       "    <tr>\n",
       "      <th>888</th>\n",
       "      <td>0</td>\n",
       "      <td>3</td>\n",
       "      <td>female</td>\n",
       "      <td>NaN</td>\n",
       "      <td>1</td>\n",
       "      <td>2</td>\n",
       "      <td>23.4500</td>\n",
       "      <td>S</td>\n",
       "      <td>Third</td>\n",
       "      <td>woman</td>\n",
       "      <td>False</td>\n",
       "      <td>NaN</td>\n",
       "      <td>Southampton</td>\n",
       "      <td>no</td>\n",
       "      <td>False</td>\n",
       "    </tr>\n",
       "    <tr>\n",
       "      <th>889</th>\n",
       "      <td>1</td>\n",
       "      <td>1</td>\n",
       "      <td>male</td>\n",
       "      <td>26.0</td>\n",
       "      <td>0</td>\n",
       "      <td>0</td>\n",
       "      <td>30.0000</td>\n",
       "      <td>C</td>\n",
       "      <td>First</td>\n",
       "      <td>man</td>\n",
       "      <td>True</td>\n",
       "      <td>C</td>\n",
       "      <td>Cherbourg</td>\n",
       "      <td>yes</td>\n",
       "      <td>True</td>\n",
       "    </tr>\n",
       "    <tr>\n",
       "      <th>890</th>\n",
       "      <td>0</td>\n",
       "      <td>3</td>\n",
       "      <td>male</td>\n",
       "      <td>32.0</td>\n",
       "      <td>0</td>\n",
       "      <td>0</td>\n",
       "      <td>7.7500</td>\n",
       "      <td>Q</td>\n",
       "      <td>Third</td>\n",
       "      <td>man</td>\n",
       "      <td>True</td>\n",
       "      <td>NaN</td>\n",
       "      <td>Queenstown</td>\n",
       "      <td>no</td>\n",
       "      <td>True</td>\n",
       "    </tr>\n",
       "  </tbody>\n",
       "</table>\n",
       "<p>891 rows × 15 columns</p>\n",
       "</div>"
      ],
      "text/plain": [
       "     survived  pclass     sex   age  sibsp  parch     fare embarked   class  \\\n",
       "0           0       3    male  22.0      1      0   7.2500        S   Third   \n",
       "1           1       1  female  38.0      1      0  71.2833        C   First   \n",
       "2           1       3  female  26.0      0      0   7.9250        S   Third   \n",
       "3           1       1  female  35.0      1      0  53.1000        S   First   \n",
       "4           0       3    male  35.0      0      0   8.0500        S   Third   \n",
       "..        ...     ...     ...   ...    ...    ...      ...      ...     ...   \n",
       "886         0       2    male  27.0      0      0  13.0000        S  Second   \n",
       "887         1       1  female  19.0      0      0  30.0000        S   First   \n",
       "888         0       3  female   NaN      1      2  23.4500        S   Third   \n",
       "889         1       1    male  26.0      0      0  30.0000        C   First   \n",
       "890         0       3    male  32.0      0      0   7.7500        Q   Third   \n",
       "\n",
       "       who  adult_male deck  embark_town alive  alone  \n",
       "0      man        True  NaN  Southampton    no  False  \n",
       "1    woman       False    C    Cherbourg   yes  False  \n",
       "2    woman       False  NaN  Southampton   yes   True  \n",
       "3    woman       False    C  Southampton   yes  False  \n",
       "4      man        True  NaN  Southampton    no   True  \n",
       "..     ...         ...  ...          ...   ...    ...  \n",
       "886    man        True  NaN  Southampton    no   True  \n",
       "887  woman       False    B  Southampton   yes   True  \n",
       "888  woman       False  NaN  Southampton    no  False  \n",
       "889    man        True    C    Cherbourg   yes   True  \n",
       "890    man        True  NaN   Queenstown    no   True  \n",
       "\n",
       "[891 rows x 15 columns]"
      ]
     },
     "execution_count": 4,
     "metadata": {},
     "output_type": "execute_result"
    }
   ],
   "source": [
    "df"
   ]
  },
  {
   "cell_type": "markdown",
   "id": "a9711fa8",
   "metadata": {},
   "source": [
    "---"
   ]
  },
  {
   "cell_type": "markdown",
   "id": "1ace13cc",
   "metadata": {},
   "source": [
    "# Data Preprocessing"
   ]
  },
  {
   "cell_type": "markdown",
   "id": "ad0c51ca",
   "metadata": {},
   "source": [
    "## Columns"
   ]
  },
  {
   "cell_type": "code",
   "execution_count": 5,
   "id": "37e2d84f",
   "metadata": {},
   "outputs": [
    {
     "data": {
      "text/plain": [
       "Index(['survived', 'pclass', 'sex', 'age', 'sibsp', 'parch', 'fare',\n",
       "       'embarked', 'class', 'who', 'adult_male', 'deck', 'embark_town',\n",
       "       'alive', 'alone'],\n",
       "      dtype='object')"
      ]
     },
     "execution_count": 5,
     "metadata": {},
     "output_type": "execute_result"
    }
   ],
   "source": [
    "df.columns"
   ]
  },
  {
   "cell_type": "markdown",
   "id": "e6c86f90",
   "metadata": {},
   "source": [
    "## Checking Missing Values"
   ]
  },
  {
   "cell_type": "code",
   "execution_count": 6,
   "id": "8d7e77a5",
   "metadata": {},
   "outputs": [
    {
     "data": {
      "text/plain": [
       "survived         0\n",
       "pclass           0\n",
       "sex              0\n",
       "age            177\n",
       "sibsp            0\n",
       "parch            0\n",
       "fare             0\n",
       "embarked         2\n",
       "class            0\n",
       "who              0\n",
       "adult_male       0\n",
       "deck           688\n",
       "embark_town      2\n",
       "alive            0\n",
       "alone            0\n",
       "dtype: int64"
      ]
     },
     "execution_count": 6,
     "metadata": {},
     "output_type": "execute_result"
    }
   ],
   "source": [
    "df.isnull().sum()"
   ]
  },
  {
   "cell_type": "markdown",
   "id": "d99a8b06",
   "metadata": {},
   "source": [
    "## Missing Values Percentage"
   ]
  },
  {
   "cell_type": "code",
   "execution_count": 7,
   "id": "7c8e9b09",
   "metadata": {},
   "outputs": [
    {
     "data": {
      "text/plain": [
       "survived        0.000000\n",
       "pclass          0.000000\n",
       "sex             0.000000\n",
       "age            19.865320\n",
       "sibsp           0.000000\n",
       "parch           0.000000\n",
       "fare            0.000000\n",
       "embarked        0.224467\n",
       "class           0.000000\n",
       "who             0.000000\n",
       "adult_male      0.000000\n",
       "deck           77.216611\n",
       "embark_town     0.224467\n",
       "alive           0.000000\n",
       "alone           0.000000\n",
       "dtype: float64"
      ]
     },
     "execution_count": 7,
     "metadata": {},
     "output_type": "execute_result"
    }
   ],
   "source": [
    "total_values = len(df) \n",
    "null = df.isnull().sum()\n",
    "missing_percentage = (null/total_values)*100\n",
    "missing_percentage"
   ]
  },
  {
   "cell_type": "markdown",
   "id": "afc28026",
   "metadata": {},
   "source": [
    "## Drop Columns have missing values to balance the dataset"
   ]
  },
  {
   "cell_type": "code",
   "execution_count": 8,
   "id": "cbb3df48",
   "metadata": {},
   "outputs": [],
   "source": [
    "df.drop('deck',axis=1 , inplace=True)"
   ]
  },
  {
   "cell_type": "code",
   "execution_count": 9,
   "id": "f141d3ef",
   "metadata": {},
   "outputs": [],
   "source": [
    "df.drop('embarked',axis=1, inplace=True)"
   ]
  },
  {
   "cell_type": "code",
   "execution_count": 10,
   "id": "5ff97c04",
   "metadata": {},
   "outputs": [],
   "source": [
    "df.drop('alive',axis=1, inplace=True)"
   ]
  },
  {
   "cell_type": "code",
   "execution_count": 11,
   "id": "8b7d33b3",
   "metadata": {},
   "outputs": [
    {
     "name": "stdout",
     "output_type": "stream",
     "text": [
      "<class 'pandas.core.frame.DataFrame'>\n",
      "RangeIndex: 891 entries, 0 to 890\n",
      "Data columns (total 12 columns):\n",
      " #   Column       Non-Null Count  Dtype   \n",
      "---  ------       --------------  -----   \n",
      " 0   survived     891 non-null    int64   \n",
      " 1   pclass       891 non-null    int64   \n",
      " 2   sex          891 non-null    object  \n",
      " 3   age          714 non-null    float64 \n",
      " 4   sibsp        891 non-null    int64   \n",
      " 5   parch        891 non-null    int64   \n",
      " 6   fare         891 non-null    float64 \n",
      " 7   class        891 non-null    category\n",
      " 8   who          891 non-null    object  \n",
      " 9   adult_male   891 non-null    bool    \n",
      " 10  embark_town  889 non-null    object  \n",
      " 11  alone        891 non-null    bool    \n",
      "dtypes: bool(2), category(1), float64(2), int64(4), object(3)\n",
      "memory usage: 65.5+ KB\n"
     ]
    }
   ],
   "source": [
    "df.info()"
   ]
  },
  {
   "cell_type": "markdown",
   "id": "eeebf8f2",
   "metadata": {},
   "source": [
    "## mode of categorical data in embarked_town column and fill null values"
   ]
  },
  {
   "cell_type": "code",
   "execution_count": 12,
   "id": "c1a81caa",
   "metadata": {},
   "outputs": [],
   "source": [
    "mod = df['embark_town'].mode()[0]\n",
    "df['embark_town'].fillna(mod, inplace=True)"
   ]
  },
  {
   "cell_type": "code",
   "execution_count": 13,
   "id": "e23a95e8",
   "metadata": {},
   "outputs": [
    {
     "name": "stdout",
     "output_type": "stream",
     "text": [
      "<class 'pandas.core.frame.DataFrame'>\n",
      "RangeIndex: 891 entries, 0 to 890\n",
      "Data columns (total 12 columns):\n",
      " #   Column       Non-Null Count  Dtype   \n",
      "---  ------       --------------  -----   \n",
      " 0   survived     891 non-null    int64   \n",
      " 1   pclass       891 non-null    int64   \n",
      " 2   sex          891 non-null    object  \n",
      " 3   age          714 non-null    float64 \n",
      " 4   sibsp        891 non-null    int64   \n",
      " 5   parch        891 non-null    int64   \n",
      " 6   fare         891 non-null    float64 \n",
      " 7   class        891 non-null    category\n",
      " 8   who          891 non-null    object  \n",
      " 9   adult_male   891 non-null    bool    \n",
      " 10  embark_town  891 non-null    object  \n",
      " 11  alone        891 non-null    bool    \n",
      "dtypes: bool(2), category(1), float64(2), int64(4), object(3)\n",
      "memory usage: 65.5+ KB\n"
     ]
    }
   ],
   "source": [
    "df.info()"
   ]
  },
  {
   "cell_type": "markdown",
   "id": "1975398d",
   "metadata": {},
   "source": [
    "## mean of numeric data and fill missing values"
   ]
  },
  {
   "cell_type": "code",
   "execution_count": 14,
   "id": "77626b9d",
   "metadata": {},
   "outputs": [],
   "source": [
    "mea = df['age'].mean()"
   ]
  },
  {
   "cell_type": "code",
   "execution_count": 15,
   "id": "8450df9d",
   "metadata": {},
   "outputs": [],
   "source": [
    "df['age'].fillna(mea,inplace=True)"
   ]
  },
  {
   "cell_type": "code",
   "execution_count": 16,
   "id": "9c33f8c5",
   "metadata": {},
   "outputs": [
    {
     "name": "stdout",
     "output_type": "stream",
     "text": [
      "<class 'pandas.core.frame.DataFrame'>\n",
      "RangeIndex: 891 entries, 0 to 890\n",
      "Data columns (total 12 columns):\n",
      " #   Column       Non-Null Count  Dtype   \n",
      "---  ------       --------------  -----   \n",
      " 0   survived     891 non-null    int64   \n",
      " 1   pclass       891 non-null    int64   \n",
      " 2   sex          891 non-null    object  \n",
      " 3   age          891 non-null    float64 \n",
      " 4   sibsp        891 non-null    int64   \n",
      " 5   parch        891 non-null    int64   \n",
      " 6   fare         891 non-null    float64 \n",
      " 7   class        891 non-null    category\n",
      " 8   who          891 non-null    object  \n",
      " 9   adult_male   891 non-null    bool    \n",
      " 10  embark_town  891 non-null    object  \n",
      " 11  alone        891 non-null    bool    \n",
      "dtypes: bool(2), category(1), float64(2), int64(4), object(3)\n",
      "memory usage: 65.5+ KB\n"
     ]
    }
   ],
   "source": [
    "df.info()"
   ]
  },
  {
   "cell_type": "markdown",
   "id": "5a88ce64",
   "metadata": {},
   "source": [
    "---"
   ]
  },
  {
   "cell_type": "markdown",
   "id": "77a71c7a",
   "metadata": {},
   "source": [
    "# 1. Basic Overview:\n",
    "- a) How many passengers are in the Titanic dataset?\n",
    "- b) What are the column names of this dataset?\n",
    "- c) Write the values of Survived column?"
   ]
  },
  {
   "cell_type": "markdown",
   "id": "7c39dbb2",
   "metadata": {},
   "source": [
    "## a) How many passengers are in the Titanic dataset?"
   ]
  },
  {
   "cell_type": "code",
   "execution_count": 17,
   "id": "f0eef85c",
   "metadata": {},
   "outputs": [
    {
     "data": {
      "text/plain": [
       "891"
      ]
     },
     "execution_count": 17,
     "metadata": {},
     "output_type": "execute_result"
    }
   ],
   "source": [
    "total = len(df)\n",
    "total"
   ]
  },
  {
   "cell_type": "markdown",
   "id": "2e95670c",
   "metadata": {},
   "source": [
    "## b) What are the column names of this dataset?"
   ]
  },
  {
   "cell_type": "code",
   "execution_count": 18,
   "id": "d4c5294b",
   "metadata": {},
   "outputs": [
    {
     "data": {
      "text/plain": [
       "Index(['survived', 'pclass', 'sex', 'age', 'sibsp', 'parch', 'fare', 'class',\n",
       "       'who', 'adult_male', 'embark_town', 'alone'],\n",
       "      dtype='object')"
      ]
     },
     "execution_count": 18,
     "metadata": {},
     "output_type": "execute_result"
    }
   ],
   "source": [
    "df.columns"
   ]
  },
  {
   "cell_type": "markdown",
   "id": "7eec94b2",
   "metadata": {},
   "source": [
    "## c) Write the values of Survived column?"
   ]
  },
  {
   "cell_type": "code",
   "execution_count": 19,
   "id": "2b5101d2",
   "metadata": {},
   "outputs": [
    {
     "data": {
      "text/plain": [
       "0      0\n",
       "1      1\n",
       "2      1\n",
       "3      1\n",
       "4      0\n",
       "      ..\n",
       "886    0\n",
       "887    1\n",
       "888    0\n",
       "889    1\n",
       "890    0\n",
       "Name: survived, Length: 891, dtype: int64"
      ]
     },
     "execution_count": 19,
     "metadata": {},
     "output_type": "execute_result"
    }
   ],
   "source": [
    "df['survived']"
   ]
  },
  {
   "cell_type": "markdown",
   "id": "19e73ffa",
   "metadata": {},
   "source": [
    "---"
   ]
  },
  {
   "cell_type": "markdown",
   "id": "54665603",
   "metadata": {},
   "source": [
    "# 2. Demographics:\n",
    "- a) How many males and females were aboard the Titanic?\n",
    "- b) Which age group had the highest number of passengers?\n",
    "- c) Calculate the mean and median age of passengers using NumPy?"
   ]
  },
  {
   "cell_type": "markdown",
   "id": "acbb50bc",
   "metadata": {},
   "source": [
    "## a) How many males and females were aboard the Titanic?"
   ]
  },
  {
   "cell_type": "code",
   "execution_count": 20,
   "id": "db9a4094",
   "metadata": {},
   "outputs": [],
   "source": [
    "gender_counts = df['sex'].value_counts()"
   ]
  },
  {
   "cell_type": "code",
   "execution_count": 21,
   "id": "3cdb9c09",
   "metadata": {},
   "outputs": [
    {
     "name": "stdout",
     "output_type": "stream",
     "text": [
      "Number of Males and Females abroad the titanic\n",
      "male      577\n",
      "female    314\n",
      "Name: sex, dtype: int64\n"
     ]
    }
   ],
   "source": [
    "print(\"Number of Males and Females abroad the titanic\")\n",
    "print(gender_counts)"
   ]
  },
  {
   "cell_type": "markdown",
   "id": "1d9879d7",
   "metadata": {},
   "source": [
    "## b) Which age group had the highest number of passengers?"
   ]
  },
  {
   "cell_type": "code",
   "execution_count": 114,
   "id": "13bbc5bf",
   "metadata": {},
   "outputs": [],
   "source": [
    "bins = [0, 10, 20, 30, 40, 50, 60, 70, 80]\n",
    "labels = ['0-10', '11-20', '21-30', '31-40', '41-50', '51-60', '61-70', '71-80']\n",
    "df['age_group'] = pd.cut(df['age'], bins, labels=labels)"
   ]
  },
  {
   "cell_type": "code",
   "execution_count": 115,
   "id": "db13be43",
   "metadata": {},
   "outputs": [
    {
     "name": "stdout",
     "output_type": "stream",
     "text": [
      "\n",
      "Age group with the highest number of passengers:\n",
      "21-30\n"
     ]
    }
   ],
   "source": [
    "# Find the age group with the highest number of passengers\n",
    "age_group_counts = df['age_group'].value_counts()\n",
    "highest_age_group = age_group_counts.idxmax()\n",
    "print(\"\\nAge group with the highest number of passengers:\")\n",
    "print(highest_age_group)"
   ]
  },
  {
   "cell_type": "markdown",
   "id": "a6deb540",
   "metadata": {},
   "source": [
    "## c) Calculate the mean and median age of passengers using NumPy"
   ]
  },
  {
   "cell_type": "code",
   "execution_count": 117,
   "id": "04d538b3",
   "metadata": {},
   "outputs": [
    {
     "name": "stdout",
     "output_type": "stream",
     "text": [
      "Mean age of passengers: 29.69911764705882\n",
      "Median age of passengers: 29.69911764705882\n"
     ]
    }
   ],
   "source": [
    "mean_age = np.nanmean(df['age'])\n",
    "median_age = np.nanmedian(df['age'])\n",
    "print(f\"Mean age of passengers: {mean_age}\")\n",
    "print(f\"Median age of passengers: {median_age}\")"
   ]
  },
  {
   "cell_type": "markdown",
   "id": "2e48d476",
   "metadata": {},
   "source": [
    "---"
   ]
  },
  {
   "cell_type": "markdown",
   "id": "e933583e",
   "metadata": {},
   "source": [
    "# 3.Travel Class & Fare:\n",
    "- a) How many passengers were in each class (1st, 2nd, 3rd)?\n",
    "- b) What's the average fare for each class? Is there a correlation between fare and\n",
    "class?\n",
    "- c) Calculate the standard deviation of fares using NumPy?"
   ]
  },
  {
   "cell_type": "markdown",
   "id": "f5a4fb59",
   "metadata": {},
   "source": [
    "## a) How many passengers were in each class (1st, 2nd, 3rd)"
   ]
  },
  {
   "cell_type": "code",
   "execution_count": 25,
   "id": "1ed71244",
   "metadata": {},
   "outputs": [
    {
     "data": {
      "text/plain": [
       "Third     491\n",
       "First     216\n",
       "Second    184\n",
       "Name: class, dtype: int64"
      ]
     },
     "execution_count": 25,
     "metadata": {},
     "output_type": "execute_result"
    }
   ],
   "source": [
    "df['class'].value_counts()"
   ]
  },
  {
   "cell_type": "markdown",
   "id": "5ad7e4e5",
   "metadata": {},
   "source": [
    "## b) What's the average fare for each class? Is there a correlation between fare and class?"
   ]
  },
  {
   "cell_type": "code",
   "execution_count": 26,
   "id": "43499c50",
   "metadata": {},
   "outputs": [
    {
     "data": {
      "text/plain": [
       "class\n",
       "First     84.154687\n",
       "Second    20.662183\n",
       "Third     13.675550\n",
       "Name: fare, dtype: float64"
      ]
     },
     "execution_count": 26,
     "metadata": {},
     "output_type": "execute_result"
    }
   ],
   "source": [
    "df.groupby('class')['fare'].mean()"
   ]
  },
  {
   "cell_type": "code",
   "execution_count": 27,
   "id": "26c2deaf",
   "metadata": {},
   "outputs": [
    {
     "name": "stdout",
     "output_type": "stream",
     "text": [
      "\n",
      "Correlation between fare and class (1st, 2nd, 3rd):\n",
      "-0.5494996199439078\n"
     ]
    }
   ],
   "source": [
    "# Map class categories to numerical values\n",
    "class_mapping = {'First': 1, 'Second': 2, 'Third': 3}\n",
    "df['class_num'] = df['class'].map(class_mapping)\n",
    "\n",
    "# Drop rows with NaN values in 'fare' or 'class_num'\n",
    "df_filtered = df[['fare', 'class_num']].dropna()\n",
    "\n",
    "# Calculate correlation\n",
    "correlation = df_filtered['fare'].corr(df_filtered['class_num'])\n",
    "print(\"\\nCorrelation between fare and class (1st, 2nd, 3rd):\")\n",
    "print(correlation)"
   ]
  },
  {
   "cell_type": "markdown",
   "id": "371aef12",
   "metadata": {},
   "source": [
    "## c) Calculate the standard deviation of fares using NumPy?"
   ]
  },
  {
   "cell_type": "code",
   "execution_count": 28,
   "id": "4f3c0705",
   "metadata": {},
   "outputs": [],
   "source": [
    "std_fare = np.nanstd(df['fare'])"
   ]
  },
  {
   "cell_type": "code",
   "execution_count": 29,
   "id": "539141c1",
   "metadata": {},
   "outputs": [
    {
     "name": "stdout",
     "output_type": "stream",
     "text": [
      "\n",
      "Standard deviation of fares:\n",
      "49.6655344447741\n"
     ]
    }
   ],
   "source": [
    "std_fare = np.nanstd(df['fare'])\n",
    "print(\"\\nStandard deviation of fares:\")\n",
    "print(std_fare)"
   ]
  },
  {
   "cell_type": "markdown",
   "id": "f760af81",
   "metadata": {},
   "source": [
    "---"
   ]
  },
  {
   "cell_type": "markdown",
   "id": "33619804",
   "metadata": {},
   "source": [
    "# 4. Survival Analysis:\n",
    "- a) What's the overall survival rate of passengers?\n",
    "- b) Does gender influence the chances of survival?\n",
    "- c) Which class had the highest survival rate?"
   ]
  },
  {
   "cell_type": "markdown",
   "id": "6c20a22b",
   "metadata": {},
   "source": [
    "## a) What's the overall survival rate of passengers?"
   ]
  },
  {
   "cell_type": "code",
   "execution_count": 30,
   "id": "13fdebca",
   "metadata": {},
   "outputs": [
    {
     "data": {
      "text/plain": [
       "0.3838383838383838"
      ]
     },
     "execution_count": 30,
     "metadata": {},
     "output_type": "execute_result"
    }
   ],
   "source": [
    "df['survived'].mean()"
   ]
  },
  {
   "cell_type": "markdown",
   "id": "5858ab41",
   "metadata": {},
   "source": [
    "## b) Does gender influence the chances of survival?"
   ]
  },
  {
   "cell_type": "code",
   "execution_count": 31,
   "id": "7d2c418b",
   "metadata": {},
   "outputs": [
    {
     "data": {
      "text/plain": [
       "sex\n",
       "female    0.742038\n",
       "male      0.188908\n",
       "Name: survived, dtype: float64"
      ]
     },
     "execution_count": 31,
     "metadata": {},
     "output_type": "execute_result"
    }
   ],
   "source": [
    "df.groupby('sex')['survived'].mean()"
   ]
  },
  {
   "cell_type": "markdown",
   "id": "1beb0b70",
   "metadata": {},
   "source": [
    "## c) Which class had the highest survival rate?"
   ]
  },
  {
   "cell_type": "code",
   "execution_count": 32,
   "id": "fcba079c",
   "metadata": {},
   "outputs": [
    {
     "name": "stdout",
     "output_type": "stream",
     "text": [
      "\n",
      "Survival rate by class:\n",
      "class\n",
      "First     0.629630\n",
      "Second    0.472826\n",
      "Third     0.242363\n",
      "Name: survived, dtype: float64\n",
      "\n",
      "Class with the highest survival rate:\n",
      "First\n"
     ]
    }
   ],
   "source": [
    "survival_by_class = df.groupby('class')['survived'].mean()\n",
    "maximum_survival = survival_by_class.idxmax() # check maximum survival\n",
    "print(\"\\nSurvival rate by class:\")\n",
    "print(survival_by_class)\n",
    "print(\"\\nClass with the highest survival rate:\")\n",
    "print(maximum_survival)"
   ]
  },
  {
   "cell_type": "markdown",
   "id": "0285253e",
   "metadata": {},
   "source": [
    "---"
   ]
  },
  {
   "cell_type": "markdown",
   "id": "ccae0654",
   "metadata": {},
   "source": [
    "# 5. Embarkation:\n",
    "- a) From which port did most passengers embark?\n",
    "- b) Was there a relationship between embarkation port and survival rate?"
   ]
  },
  {
   "cell_type": "markdown",
   "id": "b1da5166",
   "metadata": {},
   "source": [
    "## a) From which port did most passengers embark?"
   ]
  },
  {
   "cell_type": "code",
   "execution_count": 33,
   "id": "2198aa35",
   "metadata": {},
   "outputs": [
    {
     "name": "stdout",
     "output_type": "stream",
     "text": [
      "\n",
      "Survival rate by class:\n",
      "Southampton    646\n",
      "Cherbourg      168\n",
      "Queenstown      77\n",
      "Name: embark_town, dtype: int64\n",
      "\n",
      "Class with the highest survival rate:\n",
      "Southampton\n"
     ]
    }
   ],
   "source": [
    "port = df['embark_town'].value_counts()\n",
    "max_embark = port.idxmax() # check maximum survival\n",
    "print(\"\\nSurvival rate by class:\")\n",
    "print(port)\n",
    "print(\"\\nClass with the highest survival rate:\")\n",
    "print(max_embark)"
   ]
  },
  {
   "cell_type": "markdown",
   "id": "e99a6559",
   "metadata": {},
   "source": [
    "## b) Was there a relationship between embarkation port and survival rate?"
   ]
  },
  {
   "cell_type": "code",
   "execution_count": 34,
   "id": "ed3437e1",
   "metadata": {},
   "outputs": [
    {
     "data": {
      "text/plain": [
       "embark_town\n",
       "Cherbourg      0.553571\n",
       "Queenstown     0.389610\n",
       "Southampton    0.339009\n",
       "Name: survived, dtype: float64"
      ]
     },
     "execution_count": 34,
     "metadata": {},
     "output_type": "execute_result"
    }
   ],
   "source": [
    "df.groupby('embark_town')['survived'].mean()"
   ]
  },
  {
   "cell_type": "markdown",
   "id": "6b3fd262",
   "metadata": {},
   "source": [
    "---"
   ]
  },
  {
   "cell_type": "markdown",
   "id": "695af5b5",
   "metadata": {},
   "source": [
    "# 6. Cabin & Accommodation:\n",
    "- a) How many passengers had cabins? And how many did not?\n",
    "- b) Is there any correlation between having a cabin and survival?"
   ]
  },
  {
   "cell_type": "markdown",
   "id": "6e99f77f",
   "metadata": {},
   "source": [
    "## a) How many passengers had cabins? And how many did not?"
   ]
  },
  {
   "cell_type": "code",
   "execution_count": 80,
   "id": "5fc1c0dd",
   "metadata": {},
   "outputs": [
    {
     "name": "stdout",
     "output_type": "stream",
     "text": [
      "Paseengers with and without cabins: True    891\n",
      "Name: cabin, dtype: int64\n"
     ]
    }
   ],
   "source": [
    "# create a dummy 'cabin' column with some NaN values \n",
    "np.random.seed(0)\n",
    "df['cabin'] = np.where(np.random.rand(len(df)) > 0.5, 'C123',np.nan)\n",
    "\n",
    "cabin_info = df['cabin'].notna().value_counts()\n",
    "print(f\"Paseengers with and without cabins: {cabin_info}\")\n",
    "\n",
    "df['has_cabin'] = df['cabin'].notna()"
   ]
  },
  {
   "cell_type": "markdown",
   "id": "f1ebff28",
   "metadata": {},
   "source": [
    "###  survival rate based on whether a passenger had a cabin or not"
   ]
  },
  {
   "cell_type": "code",
   "execution_count": 77,
   "id": "fa024aee",
   "metadata": {},
   "outputs": [
    {
     "name": "stdout",
     "output_type": "stream",
     "text": [
      "has_cabin\n",
      "True    0.383838\n",
      "Name: survived, dtype: float64\n"
     ]
    }
   ],
   "source": [
    "survival_rate = df.groupby('has_cabin')['survived'].mean()\n",
    "print(survival_rate)"
   ]
  },
  {
   "cell_type": "code",
   "execution_count": 81,
   "id": "bd863156",
   "metadata": {},
   "outputs": [
    {
     "name": "stdout",
     "output_type": "stream",
     "text": [
      "\n",
      "Correlation between having a cabin and survival:\n",
      "nan\n"
     ]
    }
   ],
   "source": [
    "# Convert 'has_cabin' to numeric (True -> 1, False -> 0)\n",
    "df['has_cabin_num'] = df['has_cabin'].astype(int)\n",
    "cabin_survival_correlation = df['has_cabin_num'].corr(df['survived'])\n",
    "print(\"\\nCorrelation between having a cabin and survival:\")\n",
    "print(cabin_survival_correlation)"
   ]
  },
  {
   "cell_type": "markdown",
   "id": "b559fb02",
   "metadata": {},
   "source": [
    "---"
   ]
  },
  {
   "cell_type": "markdown",
   "id": "4e82a260",
   "metadata": {},
   "source": [
    "# 7. Family:\n",
    "- a) How many passengers traveled alone, and how many traveled with family?\n",
    "- b) Does traveling with family or alone influence the chances of survival?"
   ]
  },
  {
   "cell_type": "markdown",
   "id": "36531106",
   "metadata": {},
   "source": [
    "## a) How many passengers traveled alone, and how many traveled with family?"
   ]
  },
  {
   "cell_type": "code",
   "execution_count": 85,
   "id": "3ff8cf77",
   "metadata": {},
   "outputs": [
    {
     "data": {
      "text/html": [
       "<div>\n",
       "<style scoped>\n",
       "    .dataframe tbody tr th:only-of-type {\n",
       "        vertical-align: middle;\n",
       "    }\n",
       "\n",
       "    .dataframe tbody tr th {\n",
       "        vertical-align: top;\n",
       "    }\n",
       "\n",
       "    .dataframe thead th {\n",
       "        text-align: right;\n",
       "    }\n",
       "</style>\n",
       "<table border=\"1\" class=\"dataframe\">\n",
       "  <thead>\n",
       "    <tr style=\"text-align: right;\">\n",
       "      <th></th>\n",
       "      <th>survived</th>\n",
       "      <th>pclass</th>\n",
       "      <th>sex</th>\n",
       "      <th>age</th>\n",
       "      <th>sibsp</th>\n",
       "      <th>parch</th>\n",
       "      <th>fare</th>\n",
       "      <th>class</th>\n",
       "      <th>who</th>\n",
       "      <th>adult_male</th>\n",
       "      <th>embark_town</th>\n",
       "      <th>alone</th>\n",
       "      <th>age_group</th>\n",
       "      <th>class_num</th>\n",
       "      <th>cabin</th>\n",
       "      <th>has_cabin</th>\n",
       "      <th>has_cabin_num</th>\n",
       "      <th>family_size</th>\n",
       "    </tr>\n",
       "  </thead>\n",
       "  <tbody>\n",
       "    <tr>\n",
       "      <th>0</th>\n",
       "      <td>0</td>\n",
       "      <td>3</td>\n",
       "      <td>male</td>\n",
       "      <td>22.000000</td>\n",
       "      <td>1</td>\n",
       "      <td>0</td>\n",
       "      <td>7.2500</td>\n",
       "      <td>Third</td>\n",
       "      <td>man</td>\n",
       "      <td>True</td>\n",
       "      <td>Southampton</td>\n",
       "      <td>False</td>\n",
       "      <td>21-30</td>\n",
       "      <td>3</td>\n",
       "      <td>C123</td>\n",
       "      <td>True</td>\n",
       "      <td>1</td>\n",
       "      <td>1</td>\n",
       "    </tr>\n",
       "    <tr>\n",
       "      <th>1</th>\n",
       "      <td>1</td>\n",
       "      <td>1</td>\n",
       "      <td>female</td>\n",
       "      <td>38.000000</td>\n",
       "      <td>1</td>\n",
       "      <td>0</td>\n",
       "      <td>71.2833</td>\n",
       "      <td>First</td>\n",
       "      <td>woman</td>\n",
       "      <td>False</td>\n",
       "      <td>Cherbourg</td>\n",
       "      <td>False</td>\n",
       "      <td>31-40</td>\n",
       "      <td>1</td>\n",
       "      <td>C123</td>\n",
       "      <td>True</td>\n",
       "      <td>1</td>\n",
       "      <td>1</td>\n",
       "    </tr>\n",
       "    <tr>\n",
       "      <th>2</th>\n",
       "      <td>1</td>\n",
       "      <td>3</td>\n",
       "      <td>female</td>\n",
       "      <td>26.000000</td>\n",
       "      <td>0</td>\n",
       "      <td>0</td>\n",
       "      <td>7.9250</td>\n",
       "      <td>Third</td>\n",
       "      <td>woman</td>\n",
       "      <td>False</td>\n",
       "      <td>Southampton</td>\n",
       "      <td>True</td>\n",
       "      <td>21-30</td>\n",
       "      <td>3</td>\n",
       "      <td>C123</td>\n",
       "      <td>True</td>\n",
       "      <td>1</td>\n",
       "      <td>0</td>\n",
       "    </tr>\n",
       "    <tr>\n",
       "      <th>3</th>\n",
       "      <td>1</td>\n",
       "      <td>1</td>\n",
       "      <td>female</td>\n",
       "      <td>35.000000</td>\n",
       "      <td>1</td>\n",
       "      <td>0</td>\n",
       "      <td>53.1000</td>\n",
       "      <td>First</td>\n",
       "      <td>woman</td>\n",
       "      <td>False</td>\n",
       "      <td>Southampton</td>\n",
       "      <td>False</td>\n",
       "      <td>31-40</td>\n",
       "      <td>1</td>\n",
       "      <td>C123</td>\n",
       "      <td>True</td>\n",
       "      <td>1</td>\n",
       "      <td>1</td>\n",
       "    </tr>\n",
       "    <tr>\n",
       "      <th>4</th>\n",
       "      <td>0</td>\n",
       "      <td>3</td>\n",
       "      <td>male</td>\n",
       "      <td>35.000000</td>\n",
       "      <td>0</td>\n",
       "      <td>0</td>\n",
       "      <td>8.0500</td>\n",
       "      <td>Third</td>\n",
       "      <td>man</td>\n",
       "      <td>True</td>\n",
       "      <td>Southampton</td>\n",
       "      <td>True</td>\n",
       "      <td>31-40</td>\n",
       "      <td>3</td>\n",
       "      <td>nan</td>\n",
       "      <td>True</td>\n",
       "      <td>1</td>\n",
       "      <td>0</td>\n",
       "    </tr>\n",
       "    <tr>\n",
       "      <th>...</th>\n",
       "      <td>...</td>\n",
       "      <td>...</td>\n",
       "      <td>...</td>\n",
       "      <td>...</td>\n",
       "      <td>...</td>\n",
       "      <td>...</td>\n",
       "      <td>...</td>\n",
       "      <td>...</td>\n",
       "      <td>...</td>\n",
       "      <td>...</td>\n",
       "      <td>...</td>\n",
       "      <td>...</td>\n",
       "      <td>...</td>\n",
       "      <td>...</td>\n",
       "      <td>...</td>\n",
       "      <td>...</td>\n",
       "      <td>...</td>\n",
       "      <td>...</td>\n",
       "    </tr>\n",
       "    <tr>\n",
       "      <th>886</th>\n",
       "      <td>0</td>\n",
       "      <td>2</td>\n",
       "      <td>male</td>\n",
       "      <td>27.000000</td>\n",
       "      <td>0</td>\n",
       "      <td>0</td>\n",
       "      <td>13.0000</td>\n",
       "      <td>Second</td>\n",
       "      <td>man</td>\n",
       "      <td>True</td>\n",
       "      <td>Southampton</td>\n",
       "      <td>True</td>\n",
       "      <td>21-30</td>\n",
       "      <td>2</td>\n",
       "      <td>C123</td>\n",
       "      <td>True</td>\n",
       "      <td>1</td>\n",
       "      <td>0</td>\n",
       "    </tr>\n",
       "    <tr>\n",
       "      <th>887</th>\n",
       "      <td>1</td>\n",
       "      <td>1</td>\n",
       "      <td>female</td>\n",
       "      <td>19.000000</td>\n",
       "      <td>0</td>\n",
       "      <td>0</td>\n",
       "      <td>30.0000</td>\n",
       "      <td>First</td>\n",
       "      <td>woman</td>\n",
       "      <td>False</td>\n",
       "      <td>Southampton</td>\n",
       "      <td>True</td>\n",
       "      <td>11-20</td>\n",
       "      <td>1</td>\n",
       "      <td>C123</td>\n",
       "      <td>True</td>\n",
       "      <td>1</td>\n",
       "      <td>0</td>\n",
       "    </tr>\n",
       "    <tr>\n",
       "      <th>888</th>\n",
       "      <td>0</td>\n",
       "      <td>3</td>\n",
       "      <td>female</td>\n",
       "      <td>29.699118</td>\n",
       "      <td>1</td>\n",
       "      <td>2</td>\n",
       "      <td>23.4500</td>\n",
       "      <td>Third</td>\n",
       "      <td>woman</td>\n",
       "      <td>False</td>\n",
       "      <td>Southampton</td>\n",
       "      <td>False</td>\n",
       "      <td>21-30</td>\n",
       "      <td>3</td>\n",
       "      <td>nan</td>\n",
       "      <td>True</td>\n",
       "      <td>1</td>\n",
       "      <td>3</td>\n",
       "    </tr>\n",
       "    <tr>\n",
       "      <th>889</th>\n",
       "      <td>1</td>\n",
       "      <td>1</td>\n",
       "      <td>male</td>\n",
       "      <td>26.000000</td>\n",
       "      <td>0</td>\n",
       "      <td>0</td>\n",
       "      <td>30.0000</td>\n",
       "      <td>First</td>\n",
       "      <td>man</td>\n",
       "      <td>True</td>\n",
       "      <td>Cherbourg</td>\n",
       "      <td>True</td>\n",
       "      <td>21-30</td>\n",
       "      <td>1</td>\n",
       "      <td>C123</td>\n",
       "      <td>True</td>\n",
       "      <td>1</td>\n",
       "      <td>0</td>\n",
       "    </tr>\n",
       "    <tr>\n",
       "      <th>890</th>\n",
       "      <td>0</td>\n",
       "      <td>3</td>\n",
       "      <td>male</td>\n",
       "      <td>32.000000</td>\n",
       "      <td>0</td>\n",
       "      <td>0</td>\n",
       "      <td>7.7500</td>\n",
       "      <td>Third</td>\n",
       "      <td>man</td>\n",
       "      <td>True</td>\n",
       "      <td>Queenstown</td>\n",
       "      <td>True</td>\n",
       "      <td>31-40</td>\n",
       "      <td>3</td>\n",
       "      <td>nan</td>\n",
       "      <td>True</td>\n",
       "      <td>1</td>\n",
       "      <td>0</td>\n",
       "    </tr>\n",
       "  </tbody>\n",
       "</table>\n",
       "<p>891 rows × 18 columns</p>\n",
       "</div>"
      ],
      "text/plain": [
       "     survived  pclass     sex        age  sibsp  parch     fare   class  \\\n",
       "0           0       3    male  22.000000      1      0   7.2500   Third   \n",
       "1           1       1  female  38.000000      1      0  71.2833   First   \n",
       "2           1       3  female  26.000000      0      0   7.9250   Third   \n",
       "3           1       1  female  35.000000      1      0  53.1000   First   \n",
       "4           0       3    male  35.000000      0      0   8.0500   Third   \n",
       "..        ...     ...     ...        ...    ...    ...      ...     ...   \n",
       "886         0       2    male  27.000000      0      0  13.0000  Second   \n",
       "887         1       1  female  19.000000      0      0  30.0000   First   \n",
       "888         0       3  female  29.699118      1      2  23.4500   Third   \n",
       "889         1       1    male  26.000000      0      0  30.0000   First   \n",
       "890         0       3    male  32.000000      0      0   7.7500   Third   \n",
       "\n",
       "       who  adult_male  embark_town  alone age_group class_num cabin  \\\n",
       "0      man        True  Southampton  False     21-30         3  C123   \n",
       "1    woman       False    Cherbourg  False     31-40         1  C123   \n",
       "2    woman       False  Southampton   True     21-30         3  C123   \n",
       "3    woman       False  Southampton  False     31-40         1  C123   \n",
       "4      man        True  Southampton   True     31-40         3   nan   \n",
       "..     ...         ...          ...    ...       ...       ...   ...   \n",
       "886    man        True  Southampton   True     21-30         2  C123   \n",
       "887  woman       False  Southampton   True     11-20         1  C123   \n",
       "888  woman       False  Southampton  False     21-30         3   nan   \n",
       "889    man        True    Cherbourg   True     21-30         1  C123   \n",
       "890    man        True   Queenstown   True     31-40         3   nan   \n",
       "\n",
       "     has_cabin  has_cabin_num  family_size  \n",
       "0         True              1            1  \n",
       "1         True              1            1  \n",
       "2         True              1            0  \n",
       "3         True              1            1  \n",
       "4         True              1            0  \n",
       "..         ...            ...          ...  \n",
       "886       True              1            0  \n",
       "887       True              1            0  \n",
       "888       True              1            3  \n",
       "889       True              1            0  \n",
       "890       True              1            0  \n",
       "\n",
       "[891 rows x 18 columns]"
      ]
     },
     "execution_count": 85,
     "metadata": {},
     "output_type": "execute_result"
    }
   ],
   "source": [
    "df"
   ]
  },
  {
   "cell_type": "code",
   "execution_count": 138,
   "id": "6e0833de",
   "metadata": {},
   "outputs": [],
   "source": [
    "df['family_size'] = df['sibsp'] + df['parch']"
   ]
  },
  {
   "cell_type": "code",
   "execution_count": 139,
   "id": "c52e82ed",
   "metadata": {},
   "outputs": [],
   "source": [
    "travel_alone = df['family_size'] == 0\n",
    "travel_with_family = df['family_size'] > 0"
   ]
  },
  {
   "cell_type": "code",
   "execution_count": 140,
   "id": "6cd6403e",
   "metadata": {},
   "outputs": [
    {
     "data": {
      "text/plain": [
       "537"
      ]
     },
     "execution_count": 140,
     "metadata": {},
     "output_type": "execute_result"
    }
   ],
   "source": [
    "travel_alone.sum()"
   ]
  },
  {
   "cell_type": "code",
   "execution_count": 141,
   "id": "082b3efe",
   "metadata": {},
   "outputs": [
    {
     "data": {
      "text/plain": [
       "354"
      ]
     },
     "execution_count": 141,
     "metadata": {},
     "output_type": "execute_result"
    }
   ],
   "source": [
    "travel_with_family.sum()"
   ]
  },
  {
   "cell_type": "code",
   "execution_count": 142,
   "id": "5f6ed7ec",
   "metadata": {},
   "outputs": [
    {
     "data": {
      "text/plain": [
       "806"
      ]
     },
     "execution_count": 142,
     "metadata": {},
     "output_type": "execute_result"
    }
   ],
   "source": [
    "df['family_size'].sum()"
   ]
  },
  {
   "cell_type": "markdown",
   "id": "e3a33575",
   "metadata": {},
   "source": [
    "## b) Does traveling with family or alone influence the chances of survival?"
   ]
  },
  {
   "cell_type": "code",
   "execution_count": 143,
   "id": "cd35c635",
   "metadata": {},
   "outputs": [],
   "source": [
    "survival_alone = df[travel_alone]['survived'].mean()"
   ]
  },
  {
   "cell_type": "code",
   "execution_count": 147,
   "id": "d25ccc6e",
   "metadata": {
    "scrolled": true
   },
   "outputs": [],
   "source": [
    "survival_with_family = df[travel_with_family]['survived'].mean()"
   ]
  },
  {
   "cell_type": "code",
   "execution_count": 148,
   "id": "d847e8c7",
   "metadata": {},
   "outputs": [
    {
     "name": "stdout",
     "output_type": "stream",
     "text": [
      "Survival rate for passengers who traveled alone: 0.30353817504655495\n",
      "Survival rate for passengers who traveled with family: 0.5056497175141242\n"
     ]
    }
   ],
   "source": [
    "print(\"Survival rate for passengers who traveled alone:\", survival_alone)\n",
    "print(\"Survival rate for passengers who traveled with family:\", survival_with_family)"
   ]
  },
  {
   "cell_type": "markdown",
   "id": "14e8a8d8",
   "metadata": {},
   "source": [
    "---"
   ]
  },
  {
   "cell_type": "markdown",
   "id": "33c806b9",
   "metadata": {},
   "source": [
    "# 8. Feature Engineering:\n",
    "- a) Can you create a new feature \"IsChild\" which is True for passengers under 10 and\n",
    "False otherwise?\n",
    "- b) How does being a child relate to the chances of survival?"
   ]
  },
  {
   "cell_type": "markdown",
   "id": "2bd16b86",
   "metadata": {},
   "source": [
    "## a) Can you create a new feature \"IsChild\" which is True for passengers under 10 and False otherwise?"
   ]
  },
  {
   "cell_type": "code",
   "execution_count": 161,
   "id": "54e12d8a",
   "metadata": {},
   "outputs": [
    {
     "name": "stdout",
     "output_type": "stream",
     "text": [
      "         age  IsChild\n",
      "0  22.000000    False\n",
      "1  38.000000    False\n",
      "2  26.000000    False\n",
      "3  35.000000    False\n",
      "4  35.000000    False\n",
      "5  29.699118    False\n",
      "6  54.000000    False\n",
      "7   2.000000     True\n",
      "8  27.000000    False\n",
      "9  14.000000    False\n"
     ]
    }
   ],
   "source": [
    "df['IsChild'] = df['age'] < 10  \n",
    "print(df[['age','IsChild']].head(10))"
   ]
  },
  {
   "cell_type": "code",
   "execution_count": 164,
   "id": "6c0a680a",
   "metadata": {},
   "outputs": [
    {
     "name": "stdout",
     "output_type": "stream",
     "text": [
      "         age  IsChild\n",
      "0  22.000000        0\n",
      "1  38.000000        0\n",
      "2  26.000000        0\n",
      "3  35.000000        0\n",
      "4  35.000000        0\n",
      "5  29.699118        0\n",
      "6  54.000000        0\n",
      "7   2.000000        1\n",
      "8  27.000000        0\n",
      "9  14.000000        0\n"
     ]
    }
   ],
   "source": [
    "df['IsChild'] = (df['age'] < 10 ).astype(int)\n",
    "print(df[['age','IsChild']].head(10))\n",
    "# 0 for False and 1 for True "
   ]
  },
  {
   "cell_type": "markdown",
   "id": "19ef22b6",
   "metadata": {},
   "source": [
    "## b) How does being a child relate to the chances of survival?"
   ]
  },
  {
   "cell_type": "code",
   "execution_count": 165,
   "id": "64f27bc2",
   "metadata": {},
   "outputs": [
    {
     "data": {
      "text/plain": [
       "IsChild\n",
       "0    0.366707\n",
       "1    0.612903\n",
       "Name: survived, dtype: float64"
      ]
     },
     "execution_count": 165,
     "metadata": {},
     "output_type": "execute_result"
    }
   ],
   "source": [
    "df.groupby('IsChild')['survived'].mean()"
   ]
  },
  {
   "cell_type": "markdown",
   "id": "92e3f0f0",
   "metadata": {},
   "source": [
    "This indicates that children had a higher survival rate compared to adults, suggesting that being a child did have a positive influence on the chances of survival."
   ]
  },
  {
   "cell_type": "markdown",
   "id": "b42d941e",
   "metadata": {},
   "source": [
    "---"
   ]
  }
 ],
 "metadata": {
  "kernelspec": {
   "display_name": "Python 3 (ipykernel)",
   "language": "python",
   "name": "python3"
  },
  "language_info": {
   "codemirror_mode": {
    "name": "ipython",
    "version": 3
   },
   "file_extension": ".py",
   "mimetype": "text/x-python",
   "name": "python",
   "nbconvert_exporter": "python",
   "pygments_lexer": "ipython3",
   "version": "3.11.4"
  }
 },
 "nbformat": 4,
 "nbformat_minor": 5
}
