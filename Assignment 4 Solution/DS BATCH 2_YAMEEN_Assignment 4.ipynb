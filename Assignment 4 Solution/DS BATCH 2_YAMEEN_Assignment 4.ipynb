{
 "cells": [
  {
   "cell_type": "markdown",
   "id": "9cb62457-bc4a-4ef4-a09e-59b80f70f83b",
   "metadata": {},
   "source": [
    "# <center>Assignment 4 Solution </center>\n",
    "#### <center> Submitted by : Yameen Ali <br><br> [Go to Github repository](https://github.com/YameenAli/Data-Science-Assignments/tree/main/Assignment%204%20Solution) </center>\n",
    "---"
   ]
  },
  {
   "cell_type": "markdown",
   "id": "fa977294-4725-4036-b235-16c11949f792",
   "metadata": {},
   "source": [
    "# Question 1\n",
    "## Lists"
   ]
  },
  {
   "cell_type": "markdown",
   "id": "02df1310-01d8-4625-b5f4-5218f614bb08",
   "metadata": {},
   "source": [
    "\n",
    "a) Create an empty list and populate it with integers."
   ]
  },
  {
   "cell_type": "code",
   "execution_count": 25,
   "id": "90c8719f-ba45-41a2-8c8b-86d972a01e47",
   "metadata": {},
   "outputs": [],
   "source": [
    "int_list = [12,24,34,67,30,5,56]"
   ]
  },
  {
   "cell_type": "markdown",
   "id": "5165b683-240e-4d45-9d1b-9faeba46fc72",
   "metadata": {},
   "source": [
    "b) Perform the following operations on the list:\r\n",
    "1. Add an element at the beginning and end of the list"
   ]
  },
  {
   "cell_type": "code",
   "execution_count": 26,
   "id": "c8bd97e5-88d4-4ff8-9008-6d90b838e3ec",
   "metadata": {},
   "outputs": [
    {
     "name": "stdout",
     "output_type": "stream",
     "text": [
      "[13, 12, 24, 34, 67, 30, 5, 56, 14]\n"
     ]
    }
   ],
   "source": [
    "# Add an element at the beginning of the list\n",
    "int_list.insert(0, 13)\n",
    "\n",
    "# Add an element at the end of the list\n",
    "int_list.append(14)\n",
    "\n",
    "print(int_list)"
   ]
  },
  {
   "cell_type": "markdown",
   "id": "87de6fb4-64c6-4b74-84da-b8a10587da66",
   "metadata": {},
   "source": [
    "2. Remove an element from the list by its value.\r\n"
   ]
  },
  {
   "cell_type": "code",
   "execution_count": 27,
   "id": "855347d9-c86f-4aac-b1af-94f20c61e05b",
   "metadata": {},
   "outputs": [
    {
     "name": "stdout",
     "output_type": "stream",
     "text": [
      "[13, 24, 34, 67, 30, 5, 56, 14]\n"
     ]
    }
   ],
   "source": [
    "# Remove an element from the list by its value\n",
    "int_list.remove(12)  # Removes the element with the value 12\n",
    "\n",
    "print(int_list)"
   ]
  },
  {
   "cell_type": "markdown",
   "id": "6a2300e3-0c82-4904-8b93-cde331a53933",
   "metadata": {},
   "source": [
    "3. Sort the list in ascending order.\n"
   ]
  },
  {
   "cell_type": "code",
   "execution_count": 39,
   "id": "1bb87672-6ba1-4d4e-867d-d59085be69b5",
   "metadata": {},
   "outputs": [
    {
     "name": "stdout",
     "output_type": "stream",
     "text": [
      "[5, 13, 14, 24, 30, 34, 56, 67]\n"
     ]
    }
   ],
   "source": [
    "# Sort the list in ascending order\n",
    "int_list.sort()\n",
    "print(int_list)"
   ]
  },
  {
   "cell_type": "markdown",
   "id": "525c7842-397b-43fd-899a-6c8ac5ae0dc3",
   "metadata": {},
   "source": [
    "4. Check if a specific element exists in the list.\n"
   ]
  },
  {
   "cell_type": "code",
   "execution_count": 36,
   "id": "e7c947d9-4607-4f92-b7f3-4f9cc7b91de1",
   "metadata": {},
   "outputs": [
    {
     "name": "stdout",
     "output_type": "stream",
     "text": [
      "Yes 5 exists\n"
     ]
    }
   ],
   "source": [
    "check_int = 5\n",
    "if check_int in int_list:\n",
    "    print(f\"Yes {check_int} exists\")\n",
    "else:\n",
    "    print(\"not exists\")"
   ]
  },
  {
   "cell_type": "markdown",
   "id": "de1dcd37-23d2-4552-aca1-7e9b3e0b8e41",
   "metadata": {},
   "source": [
    "5. Display the final list after each operation.\r\n"
   ]
  },
  {
   "cell_type": "code",
   "execution_count": 37,
   "id": "8d7fdde1-3488-4d11-b9d5-8ff4a6cda946",
   "metadata": {},
   "outputs": [
    {
     "name": "stdout",
     "output_type": "stream",
     "text": [
      "[5, 13, 14, 24, 30, 34, 56, 67]\n"
     ]
    }
   ],
   "source": [
    "print(int_list)"
   ]
  },
  {
   "cell_type": "markdown",
   "id": "8c2e531a-2163-412f-9866-a57a77244227",
   "metadata": {},
   "source": [
    "---"
   ]
  },
  {
   "cell_type": "markdown",
   "id": "b1206909-df25-47a2-ace7-c15767985377",
   "metadata": {},
   "source": [
    "# Question 2\n",
    "## Tuples"
   ]
  },
  {
   "cell_type": "markdown",
   "id": "7dccc0a6-36b6-427b-8d8e-833bfe48023d",
   "metadata": {},
   "source": [
    "\n",
    "    a) Create a tuple of your favorite foods.\r\n"
   ]
  },
  {
   "cell_type": "code",
   "execution_count": 42,
   "id": "6cb97d8c-4a67-4286-9600-6908367d9dd2",
   "metadata": {},
   "outputs": [],
   "source": [
    "favorite_foods = ('pizza','biryani','pasta','icecream')"
   ]
  },
  {
   "cell_type": "markdown",
   "id": "b0497ff5-a513-4247-9fd4-f64b2f98a602",
   "metadata": {},
   "source": [
    "    b) Access and print the elements of the tuple.\n"
   ]
  },
  {
   "cell_type": "code",
   "execution_count": 43,
   "id": "536e3f53-440d-464f-9a91-6fc02b6abaa8",
   "metadata": {},
   "outputs": [
    {
     "name": "stdout",
     "output_type": "stream",
     "text": [
      "pizza\n",
      "biryani\n",
      "pasta\n",
      "icecream\n"
     ]
    }
   ],
   "source": [
    "# Access and print each element of the tuple\n",
    "for food in favourite_foods:\n",
    "    print(food)"
   ]
  },
  {
   "cell_type": "markdown",
   "id": "a4aab912-2551-4f4a-b4c8-c22a7a9f4d53",
   "metadata": {},
   "source": [
    "    c) Convert the tuple to a list and modify one of the elements.\n"
   ]
  },
  {
   "cell_type": "code",
   "execution_count": 44,
   "id": "7adae86f-fc0a-4fcb-a031-3af98f90cad2",
   "metadata": {},
   "outputs": [
    {
     "name": "stdout",
     "output_type": "stream",
     "text": [
      "['pizza', 'burgers', 'pasta', 'icecream']\n"
     ]
    }
   ],
   "source": [
    "# Convert the tuple to a list\n",
    "favourite_foods_list = list(favourite_foods)\n",
    "\n",
    "# Modify one of the elements in the list\n",
    "favourite_foods_list[1] = 'burgers'\n",
    "\n",
    "print(favourite_foods_list)"
   ]
  },
  {
   "cell_type": "markdown",
   "id": "29f83bf0-f047-4cb2-8197-c2a5d9304c74",
   "metadata": {},
   "source": [
    "    d) Convert the modified list back to a tuple.\n"
   ]
  },
  {
   "cell_type": "code",
   "execution_count": 49,
   "id": "a2cd66f7-7a0c-4eb1-a181-61bbf4390ecb",
   "metadata": {},
   "outputs": [],
   "source": [
    "favourite_foods_tuple = tuple(favourite_foods_list)"
   ]
  },
  {
   "cell_type": "markdown",
   "id": "80fac5ef-deda-4d04-b865-d7860135ea3d",
   "metadata": {},
   "source": [
    "    e) Display the final tuple.\n"
   ]
  },
  {
   "cell_type": "code",
   "execution_count": 48,
   "id": "54b7faf5-2f0b-40a4-bae2-e09a76dba87f",
   "metadata": {},
   "outputs": [
    {
     "name": "stdout",
     "output_type": "stream",
     "text": [
      "('pizza', 'burgers', 'pasta', 'icecream')\n"
     ]
    }
   ],
   "source": [
    "print(favourite_foods_tuple)"
   ]
  },
  {
   "cell_type": "markdown",
   "id": "1a5f9cc4-b302-4d78-9b5c-a53f826a28a6",
   "metadata": {},
   "source": [
    "---"
   ]
  },
  {
   "cell_type": "markdown",
   "id": "d49a6b62-773a-43a2-ae05-fa61dabd90a0",
   "metadata": {},
   "source": [
    "# Question 3\n",
    "## Sets"
   ]
  },
  {
   "cell_type": "markdown",
   "id": "3d5da421-98ed-44fb-9790-38cef16460eb",
   "metadata": {},
   "source": [
    "a) Create two sets containing random integers.\n"
   ]
  },
  {
   "cell_type": "code",
   "execution_count": 52,
   "id": "dde8fb87-aac2-49c4-8402-42086209fffe",
   "metadata": {},
   "outputs": [
    {
     "name": "stdout",
     "output_type": "stream",
     "text": [
      "Set 1: {34, 67, 43, 12, 45}\n",
      "Set 2: {38, 23, 56, 43, 12}\n"
     ]
    }
   ],
   "source": [
    "# set one \n",
    "set1 = {34, 67, 45, 43, 12}\n",
    "\n",
    "# set two \n",
    "set2 = {56, 38, 23, 12, 43}\n",
    "\n",
    "print(\"Set 1:\", set1)\n",
    "print(\"Set 2:\", set2)"
   ]
  },
  {
   "cell_type": "markdown",
   "id": "8b1c22fb-b984-4bc0-b61d-3927bd5d0b1b",
   "metadata": {},
   "source": [
    "b) Perform set operations on the sets, including union,\r\n",
    "intersection, and difference.."
   ]
  },
  {
   "cell_type": "code",
   "execution_count": 56,
   "id": "53d04a22-c2a8-4247-ab73-15c37b0ac7d4",
   "metadata": {},
   "outputs": [
    {
     "name": "stdout",
     "output_type": "stream",
     "text": [
      "Set 1: {34, 67, 43, 12, 45}\n",
      "Set 2: {38, 23, 56, 43, 12}\n",
      " \n",
      "Union of set1 and set2: {34, 67, 38, 43, 12, 45, 23, 56}\n",
      "Intersection of set1 and set2: {43, 12}\n",
      "Set difference of set1 - set2: {34, 67, 45}\n"
     ]
    }
   ],
   "source": [
    "# Perform set operations\n",
    "union_set = set1.union(set2)          # Union of set1 and set2\n",
    "intersection_set = set1.intersection(set2)  # Intersection of set1 and set2\n",
    "difference_set = set1.difference(set2)   # Set difference of set1 - set2\n",
    "\n",
    "# Print the results\n",
    "print(\"Set 1:\", set1)\n",
    "print(\"Set 2:\", set2)\n",
    "print(\" \")\n",
    "print(\"Union of set1 and set2:\", union_set)\n",
    "print(\"Intersection of set1 and set2:\", intersection_set)\n",
    "print(\"Set difference of set1 - set2:\", difference_set)"
   ]
  },
  {
   "cell_type": "markdown",
   "id": "6d121956-96ef-463d-8374-fbaa8b87d013",
   "metadata": {},
   "source": [
    "    c) Determine if one set is a subset or superset of the other.\r\n"
   ]
  },
  {
   "cell_type": "code",
   "execution_count": 58,
   "id": "5ca71274-d95e-4a9b-8b60-8ca677f9a036",
   "metadata": {},
   "outputs": [
    {
     "name": "stdout",
     "output_type": "stream",
     "text": [
      "Set 1 is not a subset of Set 2\n",
      "Set 1 is not a superset of Set 2\n"
     ]
    }
   ],
   "source": [
    "# Check if set1 is a subset of set2\n",
    "is_subset = set1.issubset(set2)\n",
    "\n",
    "# Check if set1 is a superset of set2\n",
    "is_superset = set1.issuperset(set2)\n",
    "\n",
    "# Print the results\n",
    "if is_subset:\n",
    "    print(\"Set 1 is a subset of Set 2\")\n",
    "else:\n",
    "    print(\"Set 1 is not a subset of Set 2\")\n",
    "\n",
    "if is_superset:\n",
    "    print(\"Set 1 is a superset of Set 2\")\n",
    "else:\n",
    "    print(\"Set 1 is not a superset of Set 2\")"
   ]
  },
  {
   "cell_type": "markdown",
   "id": "b1e16dfd-cacd-45cd-8c26-2221f061e067",
   "metadata": {},
   "source": [
    "---"
   ]
  },
  {
   "cell_type": "markdown",
   "id": "5d0278b7-f83d-4ced-ace6-c35e2f77491a",
   "metadata": {},
   "source": [
    "# Question 4\n",
    "## Dictionaries"
   ]
  },
  {
   "cell_type": "markdown",
   "id": "04f79a2a-f6db-4ca9-b3fe-655b3dfc12ce",
   "metadata": {},
   "source": [
    "a) Create a dictionary with keys representing fruits and values\r\n",
    "representing their prices."
   ]
  },
  {
   "cell_type": "code",
   "execution_count": 64,
   "id": "264cbaff-7d3e-46f1-930a-6d248fd60d70",
   "metadata": {},
   "outputs": [
    {
     "name": "stdout",
     "output_type": "stream",
     "text": [
      "{'apple': 1.99, 'banana': 0.99, 'orange': 0.79, 'grape': 2.49, 'kiwi': 1.29}\n"
     ]
    }
   ],
   "source": [
    "fruit_prices = {\n",
    "    \"apple\": 1.99,\n",
    "    \"banana\": 0.99,\n",
    "    \"orange\": 0.79,\n",
    "    \"grape\": 2.49,\n",
    "    \"kiwi\": 1.29\n",
    "}\n",
    "\n",
    "print(fruit_prices)"
   ]
  },
  {
   "cell_type": "markdown",
   "id": "14105ee7-9134-43ff-bfca-7cd299dea982",
   "metadata": {},
   "source": [
    "    b) Add new key-value pairs to the dictionary"
   ]
  },
  {
   "cell_type": "code",
   "execution_count": 65,
   "id": "5c4bd7a3-77b3-4ec3-955a-d4d98c91f41b",
   "metadata": {},
   "outputs": [
    {
     "name": "stdout",
     "output_type": "stream",
     "text": [
      "{'apple': 1.99, 'banana': 0.99, 'orange': 0.79, 'grape': 2.49, 'kiwi': 1.29, 'mango': 2.99, 'pineapple': 3.22}\n"
     ]
    }
   ],
   "source": [
    "# add new key value pair to the dictionary\n",
    "fruit_prices[\"mango\"] = 2.99\n",
    "fruit_prices[\"pineapple\"] = 3.22\n",
    "\n",
    "# print updated dictionary\n",
    "print(fruit_prices)"
   ]
  },
  {
   "cell_type": "markdown",
   "id": "3a1fef34-0597-46a0-a568-931e66bb85a3",
   "metadata": {},
   "source": [
    "    c) Access and print the value of a specific key.\n"
   ]
  },
  {
   "cell_type": "code",
   "execution_count": 67,
   "id": "a600da40-d2a6-420e-8c1e-9c3647ff72c4",
   "metadata": {},
   "outputs": [
    {
     "name": "stdout",
     "output_type": "stream",
     "text": [
      "2.99\n"
     ]
    }
   ],
   "source": [
    "print(fruit_prices['mango'])"
   ]
  },
  {
   "cell_type": "markdown",
   "id": "9063d296-02f0-416d-8e25-02e60c07e02f",
   "metadata": {},
   "source": [
    "    d) Modify the value of an existing key.\n",
    "\n"
   ]
  },
  {
   "cell_type": "code",
   "execution_count": 68,
   "id": "797f0166-b1bb-4eeb-aae5-978b31ccb69f",
   "metadata": {},
   "outputs": [
    {
     "name": "stdout",
     "output_type": "stream",
     "text": [
      "{'apple': 1.99, 'banana': 1.49, 'orange': 0.79, 'grape': 2.49, 'kiwi': 1.29, 'mango': 2.99, 'pineapple': 3.22}\n"
     ]
    }
   ],
   "source": [
    "# Modify the value of an existing key\n",
    "fruit_prices[\"banana\"] = 1.49\n",
    "\n",
    "# Print the updated dictionary\n",
    "print(fruit_prices)"
   ]
  },
  {
   "cell_type": "markdown",
   "id": "8fb3102c-9ae7-438a-a60c-6a583d499b3e",
   "metadata": {},
   "source": [
    "    e) Delete a key-value pair from the dictionary.\r\n"
   ]
  },
  {
   "cell_type": "code",
   "execution_count": 70,
   "id": "7a096c44-66f8-4f39-97b6-5a4a614dae5c",
   "metadata": {},
   "outputs": [
    {
     "name": "stdout",
     "output_type": "stream",
     "text": [
      "{'apple': 1.99, 'banana': 1.49, 'orange': 0.79, 'grape': 2.49, 'kiwi': 1.29, 'pineapple': 3.22}\n"
     ]
    }
   ],
   "source": [
    "del fruit_prices['mango']\n",
    "\n",
    "# Print the updated dictionary\n",
    "print(fruit_prices)"
   ]
  },
  {
   "cell_type": "markdown",
   "id": "861a982a-ac62-4e55-b72a-da515d352aa4",
   "metadata": {},
   "source": [
    "\n",
    "    \n",
    "    f) Display the final dictionary after each operation."
   ]
  },
  {
   "cell_type": "code",
   "execution_count": 71,
   "id": "20cee4cf-7652-4a5c-a0df-18d476fe8569",
   "metadata": {},
   "outputs": [
    {
     "name": "stdout",
     "output_type": "stream",
     "text": [
      "{'apple': 1.99, 'banana': 1.49, 'orange': 0.79, 'grape': 2.49, 'kiwi': 1.29, 'pineapple': 3.22}\n"
     ]
    }
   ],
   "source": [
    "print(fruit_prices)"
   ]
  },
  {
   "cell_type": "markdown",
   "id": "bc77d5d0-8b4c-4292-a6bd-61cc0225e8cb",
   "metadata": {},
   "source": [
    "---"
   ]
  },
  {
   "cell_type": "markdown",
   "id": "f558ea92-de9a-46eb-8a4f-2f67015a0fc3",
   "metadata": {},
   "source": [
    "# Question 5\n",
    "You are given a dataset containing information about employees in\n",
    "a company. The dataset includes the following fields for each\n",
    "employee: employee ID (integer), name (string), department (string),\n",
    "and salary (float)"
   ]
  },
  {
   "cell_type": "markdown",
   "id": "d1c69712-4879-447d-affc-7cee846b4f53",
   "metadata": {},
   "source": [
    "Using Python data structures  \n",
    "    \n",
    "    a) Create a list called \"employees\" and populate it with three employee records, each represented as a dictionary"
   ]
  },
  {
   "cell_type": "code",
   "execution_count": 77,
   "id": "f136b1f7-733b-4c0a-9765-a54feb5cfce0",
   "metadata": {},
   "outputs": [],
   "source": [
    "employees = [\n",
    "    {\"employee_id\": 1, \"name\": \"Yameen Ali\", \"department\": \"Data Scientist\", \"salary\": 90000.0},\n",
    "    {\"employee_id\": 2, \"name\": \"Abdul Rafay\", \"department\": \"Software Engineer\", \"salary\": 60000.0},\n",
    "    {\"employee_id\": 3, \"name\": \"Saad Malik\", \"department\": \"HR\", \"salary\": 50000.0}    \n",
    "]"
   ]
  },
  {
   "cell_type": "markdown",
   "id": "eac986fe-b75d-4db1-8f27-d0d777c9ac6a",
   "metadata": {},
   "source": [
    "    b) Calculate the average salary of all employees in the \"employees\" list and print the result:"
   ]
  },
  {
   "cell_type": "code",
   "execution_count": 81,
   "id": "01015bcc-c903-4d76-bca2-413db4b726ec",
   "metadata": {},
   "outputs": [
    {
     "name": "stdout",
     "output_type": "stream",
     "text": [
      "Average Salary of Employees: 66666.66666666667\n"
     ]
    }
   ],
   "source": [
    "# Calculate the average salary of all employees\n",
    "total_salary = sum(employee[\"salary\"] for employee in employees)\n",
    "average_salary = total_salary / len(employees)\n",
    "print(\"Average Salary of Employees:\", average_salary)"
   ]
  },
  {
   "cell_type": "markdown",
   "id": "9823c23e-dd24-4b6c-9f13-70ef0c5d5507",
   "metadata": {},
   "source": [
    "    c) Convert the list of employees into a set called \"unique_departments\" to obtain a set of unique department names:"
   ]
  },
  {
   "cell_type": "code",
   "execution_count": 82,
   "id": "3f74273d-c7a4-4b66-add8-ad7c288907b7",
   "metadata": {},
   "outputs": [
    {
     "name": "stdout",
     "output_type": "stream",
     "text": [
      "Unique Departments: {'Data Scientist', 'Software Engineer', 'HR'}\n"
     ]
    }
   ],
   "source": [
    "# Convert the list of employees into a set of unique department names\n",
    "unique_departments = {employee[\"department\"] for employee in employees}\n",
    "print(\"Unique Departments:\", unique_departments)"
   ]
  },
  {
   "cell_type": "markdown",
   "id": "fe589fe5-3c44-45f3-8862-77eb716e80a2",
   "metadata": {},
   "source": [
    "    d) Create a tuple called \"highest_paid_employee\" and assign the details (dictionary) of the employee with the highest salary to it:"
   ]
  },
  {
   "cell_type": "code",
   "execution_count": 83,
   "id": "fae5d204-211f-4729-a8a8-be9d6a35d8c4",
   "metadata": {},
   "outputs": [
    {
     "name": "stdout",
     "output_type": "stream",
     "text": [
      "Highest Paid Employee: {'employee_id': 1, 'name': 'Yameen Ali', 'department': 'Data Scientist', 'salary': 90000.0}\n"
     ]
    }
   ],
   "source": [
    "# Find the employee with the highest salary\n",
    "highest_paid_employee = max(employees, key=lambda x: x[\"salary\"])\n",
    "print(\"Highest Paid Employee:\", highest_paid_employee)"
   ]
  },
  {
   "cell_type": "markdown",
   "id": "dfa544c7-29c9-4901-8b74-50bb501754a0",
   "metadata": {},
   "source": [
    "    e) Display the final \"employees\" list, \"unique_departments\" set, and \"highest_paid_employee\" tuple:"
   ]
  },
  {
   "cell_type": "code",
   "execution_count": 84,
   "id": "1a5ccfc9-62e6-49e2-b86f-f7ef940d5730",
   "metadata": {},
   "outputs": [
    {
     "name": "stdout",
     "output_type": "stream",
     "text": [
      "Employees List:\n",
      "{'employee_id': 1, 'name': 'Yameen Ali', 'department': 'Data Scientist', 'salary': 90000.0}\n",
      "{'employee_id': 2, 'name': 'Abdul Rafay', 'department': 'Software Engineer', 'salary': 60000.0}\n",
      "{'employee_id': 3, 'name': 'Saad Malik', 'department': 'HR', 'salary': 50000.0}\n",
      "\n",
      "Unique Departments: {'Data Scientist', 'Software Engineer', 'HR'}\n",
      "\n",
      "Highest Paid Employee: {'employee_id': 1, 'name': 'Yameen Ali', 'department': 'Data Scientist', 'salary': 90000.0}\n"
     ]
    }
   ],
   "source": [
    "# Display the final results\n",
    "print(\"Employees List:\")\n",
    "for employee in employees:\n",
    "    print(employee)\n",
    "print(\"\\nUnique Departments:\", unique_departments)\n",
    "print(\"\\nHighest Paid Employee:\", highest_paid_employee)\n"
   ]
  },
  {
   "cell_type": "markdown",
   "id": "e0a54645-aa03-4130-a053-cfae03cb6042",
   "metadata": {},
   "source": [
    "---"
   ]
  }
 ],
 "metadata": {
  "kernelspec": {
   "display_name": "Python 3 (ipykernel)",
   "language": "python",
   "name": "python3"
  },
  "language_info": {
   "codemirror_mode": {
    "name": "ipython",
    "version": 3
   },
   "file_extension": ".py",
   "mimetype": "text/x-python",
   "name": "python",
   "nbconvert_exporter": "python",
   "pygments_lexer": "ipython3",
   "version": "3.12.1"
  }
 },
 "nbformat": 4,
 "nbformat_minor": 5
}
